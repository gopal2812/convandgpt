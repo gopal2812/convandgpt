{
  "cells": [
    {
      "cell_type": "markdown",
      "metadata": {
        "id": "view-in-github",
        "colab_type": "text"
      },
      "source": [
        "<a href=\"https://colab.research.google.com/github/gopal2812/convandgpt/blob/main/Submission/Model1.ipynb\" target=\"_parent\"><img src=\"https://colab.research.google.com/assets/colab-badge.svg\" alt=\"Open In Colab\"/></a>"
      ]
    },
    {
      "cell_type": "code",
      "execution_count": 1,
      "id": "9e0929d2",
      "metadata": {
        "colab": {
          "base_uri": "https://localhost:8080/"
        },
        "id": "9e0929d2",
        "outputId": "8f26db08-63b8-49e6-86d7-8ac576517d4f"
      },
      "outputs": [
        {
          "output_type": "stream",
          "name": "stdout",
          "text": [
            "Cloning into 'convandgpt'...\n",
            "remote: Enumerating objects: 54, done.\u001b[K\n",
            "remote: Counting objects:   1% (1/54)\u001b[K\rremote: Counting objects:   3% (2/54)\u001b[K\rremote: Counting objects:   5% (3/54)\u001b[K\rremote: Counting objects:   7% (4/54)\u001b[K\rremote: Counting objects:   9% (5/54)\u001b[K\rremote: Counting objects:  11% (6/54)\u001b[K\rremote: Counting objects:  12% (7/54)\u001b[K\rremote: Counting objects:  14% (8/54)\u001b[K\rremote: Counting objects:  16% (9/54)\u001b[K\rremote: Counting objects:  18% (10/54)\u001b[K\rremote: Counting objects:  20% (11/54)\u001b[K\rremote: Counting objects:  22% (12/54)\u001b[K\rremote: Counting objects:  24% (13/54)\u001b[K\rremote: Counting objects:  25% (14/54)\u001b[K\rremote: Counting objects:  27% (15/54)\u001b[K\rremote: Counting objects:  29% (16/54)\u001b[K\rremote: Counting objects:  31% (17/54)\u001b[K\rremote: Counting objects:  33% (18/54)\u001b[K\rremote: Counting objects:  35% (19/54)\u001b[K\rremote: Counting objects:  37% (20/54)\u001b[K\rremote: Counting objects:  38% (21/54)\u001b[K\rremote: Counting objects:  40% (22/54)\u001b[K\rremote: Counting objects:  42% (23/54)\u001b[K\rremote: Counting objects:  44% (24/54)\u001b[K\rremote: Counting objects:  46% (25/54)\u001b[K\rremote: Counting objects:  48% (26/54)\u001b[K\rremote: Counting objects:  50% (27/54)\u001b[K\rremote: Counting objects:  51% (28/54)\u001b[K\rremote: Counting objects:  53% (29/54)\u001b[K\rremote: Counting objects:  55% (30/54)\u001b[K\rremote: Counting objects:  57% (31/54)\u001b[K\rremote: Counting objects:  59% (32/54)\u001b[K\rremote: Counting objects:  61% (33/54)\u001b[K\rremote: Counting objects:  62% (34/54)\u001b[K\rremote: Counting objects:  64% (35/54)\u001b[K\rremote: Counting objects:  66% (36/54)\u001b[K\rremote: Counting objects:  68% (37/54)\u001b[K\rremote: Counting objects:  70% (38/54)\u001b[K\rremote: Counting objects:  72% (39/54)\u001b[K\rremote: Counting objects:  74% (40/54)\u001b[K\rremote: Counting objects:  75% (41/54)\u001b[K\rremote: Counting objects:  77% (42/54)\u001b[K\rremote: Counting objects:  79% (43/54)\u001b[K\rremote: Counting objects:  81% (44/54)\u001b[K\rremote: Counting objects:  83% (45/54)\u001b[K\rremote: Counting objects:  85% (46/54)\u001b[K\rremote: Counting objects:  87% (47/54)\u001b[K\rremote: Counting objects:  88% (48/54)\u001b[K\rremote: Counting objects:  90% (49/54)\u001b[K\rremote: Counting objects:  92% (50/54)\u001b[K\rremote: Counting objects:  94% (51/54)\u001b[K\rremote: Counting objects:  96% (52/54)\u001b[K\rremote: Counting objects:  98% (53/54)\u001b[K\rremote: Counting objects: 100% (54/54)\u001b[K\rremote: Counting objects: 100% (54/54), done.\u001b[K\n",
            "remote: Compressing objects:   1% (1/51)\u001b[K\rremote: Compressing objects:   3% (2/51)\u001b[K\rremote: Compressing objects:   5% (3/51)\u001b[K\rremote: Compressing objects:   7% (4/51)\u001b[K\rremote: Compressing objects:   9% (5/51)\u001b[K\rremote: Compressing objects:  11% (6/51)\u001b[K\rremote: Compressing objects:  13% (7/51)\u001b[K\rremote: Compressing objects:  15% (8/51)\u001b[K\rremote: Compressing objects:  17% (9/51)\u001b[K\rremote: Compressing objects:  19% (10/51)\u001b[K\rremote: Compressing objects:  21% (11/51)\u001b[K\rremote: Compressing objects:  23% (12/51)\u001b[K\rremote: Compressing objects:  25% (13/51)\u001b[K\rremote: Compressing objects:  27% (14/51)\u001b[K\rremote: Compressing objects:  29% (15/51)\u001b[K\rremote: Compressing objects:  31% (16/51)\u001b[K\rremote: Compressing objects:  33% (17/51)\u001b[K\rremote: Compressing objects:  35% (18/51)\u001b[K\rremote: Compressing objects:  37% (19/51)\u001b[K\rremote: Compressing objects:  39% (20/51)\u001b[K\rremote: Compressing objects:  41% (21/51)\u001b[K\rremote: Compressing objects:  43% (22/51)\u001b[K\rremote: Compressing objects:  45% (23/51)\u001b[K\rremote: Compressing objects:  47% (24/51)\u001b[K\rremote: Compressing objects:  49% (25/51)\u001b[K\rremote: Compressing objects:  50% (26/51)\u001b[K\rremote: Compressing objects:  52% (27/51)\u001b[K\rremote: Compressing objects:  54% (28/51)\u001b[K\rremote: Compressing objects:  56% (29/51)\u001b[K\rremote: Compressing objects:  58% (30/51)\u001b[K\rremote: Compressing objects:  60% (31/51)\u001b[K\rremote: Compressing objects:  62% (32/51)\u001b[K\rremote: Compressing objects:  64% (33/51)\u001b[K\rremote: Compressing objects:  66% (34/51)\u001b[K\rremote: Compressing objects:  68% (35/51)\u001b[K\rremote: Compressing objects:  70% (36/51)\u001b[K\rremote: Compressing objects:  72% (37/51)\u001b[K\rremote: Compressing objects:  74% (38/51)\u001b[K\rremote: Compressing objects:  76% (39/51)\u001b[K\rremote: Compressing objects:  78% (40/51)\u001b[K\rremote: Compressing objects:  80% (41/51)\u001b[K\rremote: Compressing objects:  82% (42/51)\u001b[K\rremote: Compressing objects:  84% (43/51)\u001b[K\rremote: Compressing objects:  86% (44/51)\u001b[K\rremote: Compressing objects:  88% (45/51)\u001b[K\rremote: Compressing objects:  90% (46/51)\u001b[K\rremote: Compressing objects:  92% (47/51)\u001b[K\rremote: Compressing objects:  94% (48/51)\u001b[K\rremote: Compressing objects:  96% (49/51)\u001b[K\rremote: Compressing objects:  98% (50/51)\u001b[K\rremote: Compressing objects: 100% (51/51)\u001b[K\rremote: Compressing objects: 100% (51/51), done.\u001b[K\n",
            "Receiving objects:   1% (1/54)\rReceiving objects:   3% (2/54)\rReceiving objects:   5% (3/54)\rReceiving objects:   7% (4/54)\rReceiving objects:   9% (5/54)\rReceiving objects:  11% (6/54)\rReceiving objects:  12% (7/54)\rReceiving objects:  14% (8/54)\rReceiving objects:  16% (9/54)\rReceiving objects:  18% (10/54)\rReceiving objects:  20% (11/54)\rReceiving objects:  22% (12/54)\rReceiving objects:  24% (13/54)\rReceiving objects:  25% (14/54)\rReceiving objects:  27% (15/54)\rReceiving objects:  29% (16/54)\rReceiving objects:  31% (17/54)\rReceiving objects:  33% (18/54)\rReceiving objects:  35% (19/54)\rReceiving objects:  37% (20/54)\rReceiving objects:  38% (21/54)\rReceiving objects:  40% (22/54)\rReceiving objects:  42% (23/54)\rReceiving objects:  44% (24/54)\rReceiving objects:  46% (25/54)\rReceiving objects:  48% (26/54)\rReceiving objects:  50% (27/54)\rReceiving objects:  51% (28/54)\rReceiving objects:  53% (29/54)\rReceiving objects:  55% (30/54)\rReceiving objects:  57% (31/54)\rReceiving objects:  59% (32/54)\rReceiving objects:  61% (33/54)\rReceiving objects:  62% (34/54)\rReceiving objects:  64% (35/54)\rReceiving objects:  66% (36/54)\rReceiving objects:  68% (37/54)\rReceiving objects:  70% (38/54)\rReceiving objects:  72% (39/54)\rReceiving objects:  74% (40/54)\rReceiving objects:  75% (41/54)\rReceiving objects:  77% (42/54)\rReceiving objects:  79% (43/54)\rReceiving objects:  81% (44/54)\rReceiving objects:  83% (45/54)\rReceiving objects:  85% (46/54)\rReceiving objects:  87% (47/54)\rReceiving objects:  88% (48/54)\rReceiving objects:  90% (49/54)\rReceiving objects:  92% (50/54)\rReceiving objects:  94% (51/54)\rReceiving objects:  96% (52/54)\rremote: Total 54 (delta 23), reused 0 (delta 0), pack-reused 0\u001b[K\n",
            "Receiving objects:  98% (53/54)\rReceiving objects: 100% (54/54)\rReceiving objects: 100% (54/54), 194.34 KiB | 8.45 MiB/s, done.\n",
            "Resolving deltas:   0% (0/23)\rResolving deltas:   4% (1/23)\rResolving deltas:   8% (2/23)\rResolving deltas:  13% (3/23)\rResolving deltas:  17% (4/23)\rResolving deltas:  21% (5/23)\rResolving deltas:  26% (6/23)\rResolving deltas:  30% (7/23)\rResolving deltas:  34% (8/23)\rResolving deltas:  39% (9/23)\rResolving deltas:  43% (10/23)\rResolving deltas:  47% (11/23)\rResolving deltas:  52% (12/23)\rResolving deltas:  56% (13/23)\rResolving deltas:  60% (14/23)\rResolving deltas:  65% (15/23)\rResolving deltas:  69% (16/23)\rResolving deltas:  73% (17/23)\rResolving deltas:  78% (18/23)\rResolving deltas:  82% (19/23)\rResolving deltas:  86% (20/23)\rResolving deltas:  91% (21/23)\rResolving deltas:  95% (22/23)\rResolving deltas: 100% (23/23)\rResolving deltas: 100% (23/23), done.\n"
          ]
        }
      ],
      "source": [
        "!rm -rf /content/convandgpt/\n",
        "!git clone https://github.com/gopal2812/convandgpt.git\n",
        "import os"
      ]
    },
    {
      "cell_type": "code",
      "source": [
        "os.chdir(\"/content/convandgpt/Submission7\")"
      ],
      "metadata": {
        "id": "vWfzRrRHMHFp"
      },
      "id": "vWfzRrRHMHFp",
      "execution_count": 2,
      "outputs": []
    },
    {
      "cell_type": "code",
      "source": [
        "!pwd;ls"
      ],
      "metadata": {
        "colab": {
          "base_uri": "https://localhost:8080/"
        },
        "id": "gAbgWuYhMU55",
        "outputId": "0bbd4219-455b-42b1-8388-ccd202c905de"
      },
      "id": "gAbgWuYhMU55",
      "execution_count": 3,
      "outputs": [
        {
          "output_type": "stream",
          "name": "stdout",
          "text": [
            "/content/convandgpt/Submission7\n",
            "model.py  utils.py\n"
          ]
        }
      ]
    },
    {
      "cell_type": "code",
      "source": [
        "from __future__ import print_function\n",
        "import torch\n",
        "import torch.nn as nn\n",
        "import torch.optim as optim\n",
        "from torchvision import datasets, transforms\n",
        "from utils import train, test\n",
        "import torch.nn.functional as F\n",
        "from model import Model_1\n",
        "\n",
        "!pip install torchsummary\n",
        "from torchsummary import summary\n"
      ],
      "metadata": {
        "colab": {
          "base_uri": "https://localhost:8080/"
        },
        "id": "lm0JYnQD_4Jc",
        "outputId": "31b98b80-cf82-4e9f-f250-323918b37b4b"
      },
      "id": "lm0JYnQD_4Jc",
      "execution_count": 4,
      "outputs": [
        {
          "output_type": "stream",
          "name": "stdout",
          "text": [
            "Requirement already satisfied: torchsummary in /usr/local/lib/python3.10/dist-packages (1.5.1)\n"
          ]
        }
      ]
    },
    {
      "cell_type": "code",
      "source": [
        "# Set Seed for reproducibility\n",
        "SEED = 1\n",
        "torch.manual_seed(SEED)\n",
        "use_cuda = torch.cuda.is_available()\n",
        "device = torch.device(\"cuda\" if use_cuda else \"cpu\")"
      ],
      "metadata": {
        "id": "OLHeH8uEB-3y"
      },
      "id": "OLHeH8uEB-3y",
      "execution_count": 5,
      "outputs": []
    },
    {
      "cell_type": "code",
      "source": [
        "model = Model_1().to(device)\n",
        "summary(model, input_size=(1, 28, 28))"
      ],
      "metadata": {
        "colab": {
          "base_uri": "https://localhost:8080/"
        },
        "id": "8CG5H8u5CgQ2",
        "outputId": "715774e5-4e81-4543-d5ce-f8f657cf3d06"
      },
      "id": "8CG5H8u5CgQ2",
      "execution_count": 6,
      "outputs": [
        {
          "output_type": "stream",
          "name": "stdout",
          "text": [
            "----------------------------------------------------------------\n",
            "        Layer (type)               Output Shape         Param #\n",
            "================================================================\n",
            "            Conv2d-1           [-1, 20, 26, 26]             200\n",
            "              ReLU-2           [-1, 20, 26, 26]               0\n",
            "       BatchNorm2d-3           [-1, 20, 26, 26]              40\n",
            "            Conv2d-4           [-1, 10, 24, 24]           1,810\n",
            "              ReLU-5           [-1, 10, 24, 24]               0\n",
            "       BatchNorm2d-6           [-1, 10, 24, 24]              20\n",
            "            Conv2d-7           [-1, 11, 22, 22]           1,001\n",
            "              ReLU-8           [-1, 11, 22, 22]               0\n",
            "       BatchNorm2d-9           [-1, 11, 22, 22]              22\n",
            "           Conv2d-10           [-1, 10, 11, 11]             120\n",
            "             ReLU-11           [-1, 10, 11, 11]               0\n",
            "      BatchNorm2d-12           [-1, 10, 11, 11]              20\n",
            "           Conv2d-13             [-1, 10, 9, 9]             910\n",
            "             ReLU-14             [-1, 10, 9, 9]               0\n",
            "      BatchNorm2d-15             [-1, 10, 9, 9]              20\n",
            "           Conv2d-16             [-1, 10, 7, 7]             910\n",
            "             ReLU-17             [-1, 10, 7, 7]               0\n",
            "      BatchNorm2d-18             [-1, 10, 7, 7]              20\n",
            "           Conv2d-19             [-1, 22, 5, 5]           2,002\n",
            "             ReLU-20             [-1, 22, 5, 5]               0\n",
            "      BatchNorm2d-21             [-1, 22, 5, 5]              44\n",
            "           Conv2d-22             [-1, 10, 5, 5]             230\n",
            "AdaptiveAvgPool2d-23             [-1, 10, 1, 1]               0\n",
            "================================================================\n",
            "Total params: 7,369\n",
            "Trainable params: 7,369\n",
            "Non-trainable params: 0\n",
            "----------------------------------------------------------------\n",
            "Input size (MB): 0.00\n",
            "Forward/backward pass size (MB): 0.64\n",
            "Params size (MB): 0.03\n",
            "Estimated Total Size (MB): 0.67\n",
            "----------------------------------------------------------------\n"
          ]
        }
      ]
    },
    {
      "cell_type": "code",
      "source": [
        "# Data to plot accuracy and loss graphs\n",
        "train_losses = []\n",
        "test_losses = []\n",
        "train_acc = []\n",
        "test_acc = []\n",
        "batch_size = 64\n",
        "kwargs = {'batch_size': batch_size, 'shuffle': True, 'num_workers': 2, 'pin_memory': True}\n",
        "\n",
        "# Train data transformations\n",
        "train_transforms = transforms.Compose([\n",
        "    transforms.RandomRotation((-12., 12.), fill=0),\n",
        "    transforms.ToTensor(),\n",
        "    transforms.Normalize((0.1307,), (0.3081,)),\n",
        "    ])\n",
        "\n",
        "# Test data transformations\n",
        "test_transforms = transforms.Compose([\n",
        "    transforms.ToTensor(),\n",
        "    transforms.Normalize((0.1307,), (0.3081,))\n",
        "    ])\n",
        "\n",
        "train_data = datasets.MNIST('../data', train=True, download=True, transform=train_transforms)\n",
        "test_data = datasets.MNIST('../data', train=False, download=True, transform=test_transforms)\n",
        "\n",
        "test_loader = torch.utils.data.DataLoader(test_data, **kwargs)\n",
        "train_loader = torch.utils.data.DataLoader(train_data, **kwargs)"
      ],
      "metadata": {
        "colab": {
          "base_uri": "https://localhost:8080/"
        },
        "id": "ZBK7cvuXLGqy",
        "outputId": "b667f5b1-bb18-4d99-e63d-757be7951a25"
      },
      "id": "ZBK7cvuXLGqy",
      "execution_count": 7,
      "outputs": [
        {
          "output_type": "stream",
          "name": "stdout",
          "text": [
            "Downloading http://yann.lecun.com/exdb/mnist/train-images-idx3-ubyte.gz\n",
            "Downloading http://yann.lecun.com/exdb/mnist/train-images-idx3-ubyte.gz to ../data/MNIST/raw/train-images-idx3-ubyte.gz\n"
          ]
        },
        {
          "output_type": "stream",
          "name": "stderr",
          "text": [
            "100%|██████████| 9912422/9912422 [00:00<00:00, 155087534.81it/s]\n"
          ]
        },
        {
          "output_type": "stream",
          "name": "stdout",
          "text": [
            "Extracting ../data/MNIST/raw/train-images-idx3-ubyte.gz to ../data/MNIST/raw\n",
            "\n",
            "Downloading http://yann.lecun.com/exdb/mnist/train-labels-idx1-ubyte.gz\n",
            "Downloading http://yann.lecun.com/exdb/mnist/train-labels-idx1-ubyte.gz to ../data/MNIST/raw/train-labels-idx1-ubyte.gz\n"
          ]
        },
        {
          "output_type": "stream",
          "name": "stderr",
          "text": [
            "100%|██████████| 28881/28881 [00:00<00:00, 30768527.77it/s]\n"
          ]
        },
        {
          "output_type": "stream",
          "name": "stdout",
          "text": [
            "Extracting ../data/MNIST/raw/train-labels-idx1-ubyte.gz to ../data/MNIST/raw\n",
            "\n",
            "Downloading http://yann.lecun.com/exdb/mnist/t10k-images-idx3-ubyte.gz\n",
            "Downloading http://yann.lecun.com/exdb/mnist/t10k-images-idx3-ubyte.gz to ../data/MNIST/raw/t10k-images-idx3-ubyte.gz\n"
          ]
        },
        {
          "output_type": "stream",
          "name": "stderr",
          "text": [
            "100%|██████████| 1648877/1648877 [00:00<00:00, 165638191.19it/s]"
          ]
        },
        {
          "output_type": "stream",
          "name": "stdout",
          "text": [
            "Extracting ../data/MNIST/raw/t10k-images-idx3-ubyte.gz to ../data/MNIST/raw\n"
          ]
        },
        {
          "output_type": "stream",
          "name": "stderr",
          "text": [
            "\n"
          ]
        },
        {
          "output_type": "stream",
          "name": "stdout",
          "text": [
            "\n",
            "Downloading http://yann.lecun.com/exdb/mnist/t10k-labels-idx1-ubyte.gz\n",
            "Downloading http://yann.lecun.com/exdb/mnist/t10k-labels-idx1-ubyte.gz to ../data/MNIST/raw/t10k-labels-idx1-ubyte.gz\n"
          ]
        },
        {
          "output_type": "stream",
          "name": "stderr",
          "text": [
            "100%|██████████| 4542/4542 [00:00<00:00, 12087898.96it/s]\n"
          ]
        },
        {
          "output_type": "stream",
          "name": "stdout",
          "text": [
            "Extracting ../data/MNIST/raw/t10k-labels-idx1-ubyte.gz to ../data/MNIST/raw\n",
            "\n"
          ]
        }
      ]
    },
    {
      "cell_type": "code",
      "source": [
        "import matplotlib.pyplot as plt\n",
        "\n",
        "batch_data, batch_label = next(iter(train_loader))\n",
        "fig = plt.figure()\n",
        "\n",
        "for i in range(12):\n",
        "  plt.subplot(3,4,i+1)\n",
        "  plt.tight_layout()\n",
        "  plt.imshow(batch_data[i].squeeze(0), cmap='gray')\n",
        "  plt.title(batch_label[i].item())\n",
        "  plt.xticks([])\n",
        "  plt.yticks([])"
      ],
      "metadata": {
        "colab": {
          "base_uri": "https://localhost:8080/",
          "height": 463
        },
        "id": "Rx6Nh2IRDTkt",
        "outputId": "50787873-e7f6-4d4a-b823-03cf5c31c10b"
      },
      "id": "Rx6Nh2IRDTkt",
      "execution_count": 8,
      "outputs": [
        {
          "output_type": "display_data",
          "data": {
            "text/plain": [
              "<Figure size 640x480 with 12 Axes>"
            ],
            "image/png": "[encoded data removed]"
          },
          "metadata": {}
        }
      ]
    },
    {
      "cell_type": "code",
      "source": [
        "# New Line\n",
        "num_epochs = 15\n",
        "l1_factor=0\n",
        "l2_factor=0\n",
        "epochs = 15\n",
        "from torch.optim.lr_scheduler import StepLR,OneCycleLR\n",
        "optimizer = optim.SGD(model.parameters(), lr=0.025, momentum=0.97,weight_decay=l2_factor)\n",
        "scheduler = OneCycleLR(optimizer, max_lr=0.025,epochs=epochs,steps_per_epoch=len(train_loader))\n",
        "\n",
        "train_losses = []\n",
        "test_losses = []\n",
        "train_accuracy = []\n",
        "test_accuracy = []\n",
        "\n",
        "for epoch in range(1, epochs + 1):\n",
        "    print(f'Epoch {epoch}:')\n",
        "    train(model, device, train_loader, optimizer, epoch, train_accuracy, train_losses, l1_factor,scheduler)\n",
        "    test(model, device, test_loader,test_accuracy,test_losses)\n"
      ],
      "metadata": {
        "colab": {
          "base_uri": "https://localhost:8080/"
        },
        "id": "SCLl4Q_QDJZ4",
        "outputId": "31330252-8252-45a7-b258-04c76fe07865"
      },
      "id": "SCLl4Q_QDJZ4",
      "execution_count": 11,
      "outputs": [
        {
          "output_type": "stream",
          "name": "stdout",
          "text": [
            "Epoch 1:\n"
          ]
        },
        {
          "output_type": "stream",
          "name": "stderr",
          "text": [
            "Loss=0.1570202112197876 Batch_id=937 Accuracy=85.17: 100%|██████████| 938/938 [01:21<00:00, 11.56it/s]\n"
          ]
        },
        {
          "output_type": "stream",
          "name": "stdout",
          "text": [
            "\n",
            "Test set: Average loss: 0.1540, Accuracy: 9562/10000 (95.62%)\n",
            "\n",
            "Epoch 2:\n"
          ]
        },
        {
          "output_type": "stream",
          "name": "stderr",
          "text": [
            "Loss=0.06927412003278732 Batch_id=937 Accuracy=96.91: 100%|██████████| 938/938 [01:24<00:00, 11.05it/s]\n"
          ]
        },
        {
          "output_type": "stream",
          "name": "stdout",
          "text": [
            "\n",
            "Test set: Average loss: 0.0913, Accuracy: 9718/10000 (97.18%)\n",
            "\n",
            "Epoch 3:\n"
          ]
        },
        {
          "output_type": "stream",
          "name": "stderr",
          "text": [
            "Loss=0.016403542831540108 Batch_id=937 Accuracy=97.77: 100%|██████████| 938/938 [01:23<00:00, 11.21it/s]\n"
          ]
        },
        {
          "output_type": "stream",
          "name": "stdout",
          "text": [
            "\n",
            "Test set: Average loss: 0.0438, Accuracy: 9859/10000 (98.59%)\n",
            "\n",
            "Epoch 4:\n"
          ]
        },
        {
          "output_type": "stream",
          "name": "stderr",
          "text": [
            "Loss=0.026528432965278625 Batch_id=937 Accuracy=98.20: 100%|██████████| 938/938 [01:22<00:00, 11.33it/s]\n"
          ]
        },
        {
          "output_type": "stream",
          "name": "stdout",
          "text": [
            "\n",
            "Test set: Average loss: 0.0544, Accuracy: 9819/10000 (98.19%)\n",
            "\n",
            "Epoch 5:\n"
          ]
        },
        {
          "output_type": "stream",
          "name": "stderr",
          "text": [
            "Loss=0.009608907625079155 Batch_id=937 Accuracy=98.42: 100%|██████████| 938/938 [01:24<00:00, 11.04it/s]\n"
          ]
        },
        {
          "output_type": "stream",
          "name": "stdout",
          "text": [
            "\n",
            "Test set: Average loss: 0.0326, Accuracy: 9905/10000 (99.05%)\n",
            "\n",
            "Epoch 6:\n"
          ]
        },
        {
          "output_type": "stream",
          "name": "stderr",
          "text": [
            "Loss=0.08736464381217957 Batch_id=937 Accuracy=98.55: 100%|██████████| 938/938 [01:22<00:00, 11.34it/s]\n"
          ]
        },
        {
          "output_type": "stream",
          "name": "stdout",
          "text": [
            "\n",
            "Test set: Average loss: 0.0339, Accuracy: 9900/10000 (99.00%)\n",
            "\n",
            "Epoch 7:\n"
          ]
        },
        {
          "output_type": "stream",
          "name": "stderr",
          "text": [
            "Loss=0.06368274241685867 Batch_id=937 Accuracy=98.65: 100%|██████████| 938/938 [01:23<00:00, 11.23it/s]\n"
          ]
        },
        {
          "output_type": "stream",
          "name": "stdout",
          "text": [
            "\n",
            "Test set: Average loss: 0.0265, Accuracy: 9920/10000 (99.20%)\n",
            "\n",
            "Epoch 8:\n"
          ]
        },
        {
          "output_type": "stream",
          "name": "stderr",
          "text": [
            "Loss=0.056786973029375076 Batch_id=937 Accuracy=98.73: 100%|██████████| 938/938 [01:22<00:00, 11.38it/s]\n"
          ]
        },
        {
          "output_type": "stream",
          "name": "stdout",
          "text": [
            "\n",
            "Test set: Average loss: 0.0268, Accuracy: 9920/10000 (99.20%)\n",
            "\n",
            "Epoch 9:\n"
          ]
        },
        {
          "output_type": "stream",
          "name": "stderr",
          "text": [
            "Loss=0.11674189567565918 Batch_id=937 Accuracy=98.83: 100%|██████████| 938/938 [01:21<00:00, 11.48it/s]\n"
          ]
        },
        {
          "output_type": "stream",
          "name": "stdout",
          "text": [
            "\n",
            "Test set: Average loss: 0.0245, Accuracy: 9926/10000 (99.26%)\n",
            "\n",
            "Epoch 10:\n"
          ]
        },
        {
          "output_type": "stream",
          "name": "stderr",
          "text": [
            "Loss=0.008690089918673038 Batch_id=937 Accuracy=98.94: 100%|██████████| 938/938 [01:24<00:00, 11.16it/s]\n"
          ]
        },
        {
          "output_type": "stream",
          "name": "stdout",
          "text": [
            "\n",
            "Test set: Average loss: 0.0230, Accuracy: 9927/10000 (99.27%)\n",
            "\n",
            "Epoch 11:\n"
          ]
        },
        {
          "output_type": "stream",
          "name": "stderr",
          "text": [
            "Loss=0.011098488233983517 Batch_id=937 Accuracy=98.96: 100%|██████████| 938/938 [01:23<00:00, 11.30it/s]\n"
          ]
        },
        {
          "output_type": "stream",
          "name": "stdout",
          "text": [
            "\n",
            "Test set: Average loss: 0.0208, Accuracy: 9938/10000 (99.38%)\n",
            "\n",
            "Epoch 12:\n"
          ]
        },
        {
          "output_type": "stream",
          "name": "stderr",
          "text": [
            "Loss=0.02812943607568741 Batch_id=937 Accuracy=99.07: 100%|██████████| 938/938 [01:23<00:00, 11.17it/s]\n"
          ]
        },
        {
          "output_type": "stream",
          "name": "stdout",
          "text": [
            "\n",
            "Test set: Average loss: 0.0189, Accuracy: 9939/10000 (99.39%)\n",
            "\n",
            "Epoch 13:\n"
          ]
        },
        {
          "output_type": "stream",
          "name": "stderr",
          "text": [
            "Loss=0.0048796189948916435 Batch_id=937 Accuracy=99.22: 100%|██████████| 938/938 [01:22<00:00, 11.37it/s]\n"
          ]
        },
        {
          "output_type": "stream",
          "name": "stdout",
          "text": [
            "\n",
            "Test set: Average loss: 0.0176, Accuracy: 9940/10000 (99.40%)\n",
            "\n",
            "Epoch 14:\n"
          ]
        },
        {
          "output_type": "stream",
          "name": "stderr",
          "text": [
            "Loss=0.0451086163520813 Batch_id=937 Accuracy=99.21: 100%|██████████| 938/938 [01:22<00:00, 11.40it/s]\n"
          ]
        },
        {
          "output_type": "stream",
          "name": "stdout",
          "text": [
            "\n",
            "Test set: Average loss: 0.0172, Accuracy: 9937/10000 (99.37%)\n",
            "\n",
            "Epoch 15:\n"
          ]
        },
        {
          "output_type": "stream",
          "name": "stderr",
          "text": [
            "Loss=0.07724378257989883 Batch_id=937 Accuracy=99.23: 100%|██████████| 938/938 [01:23<00:00, 11.30it/s]\n"
          ]
        },
        {
          "output_type": "stream",
          "name": "stdout",
          "text": [
            "\n",
            "Test set: Average loss: 0.0174, Accuracy: 9941/10000 (99.41%)\n",
            "\n"
          ]
        }
      ]
    },
    {
      "cell_type": "markdown",
      "source": [
        "## Model 1\n",
        "#Target\n",
        "Set up a model structure, borrowed from previous exercise\n",
        "Basic code from the previous exercise\n",
        "Get the set-up right\n",
        "Set Transforms\n",
        "Set Data Loader\n",
        "Set Basic Working Code\n",
        "Set Basic Training  & Test Loop\n",
        "\n",
        "\n",
        "\n",
        "#Results\n",
        "Train Acc: 99.3%\n",
        "\n",
        "Test Acc: ~99.4% infrequent\n",
        "\n",
        "Parameters: 7369\n",
        "\n",
        "#Analysis\n",
        "We have got the basic skelton and compact model.The model is over-fitting. we need our transform seems to be doing a good job making the training hard.\n",
        "Let's see what the model can do with the least parameters setup.\n"
      ],
      "metadata": {
        "id": "ujJUvNVqCjzw"
      },
      "id": "ujJUvNVqCjzw"
    },
    {
      "cell_type": "code",
      "source": [],
      "metadata": {
        "id": "utBwXuIuB6aN"
      },
      "id": "utBwXuIuB6aN",
      "execution_count": null,
      "outputs": []
    }
  ],
  "metadata": {
    "kernelspec": {
      "display_name": "Python 3",
      "name": "python3"
    },
    "language_info": {
      "codemirror_mode": {
        "name": "ipython",
        "version": 3
      },
      "file_extension": ".py",
      "mimetype": "text/x-python",
      "name": "python",
      "nbconvert_exporter": "python",
      "pygments_lexer": "ipython3",
      "version": "3.9.12"
    },
    "colab": {
      "provenance": [],
      "include_colab_link": true
    }
  },
  "nbformat": 4,
  "nbformat_minor": 5
}