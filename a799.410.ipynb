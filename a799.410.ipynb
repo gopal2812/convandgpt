{
  "cells": [
    {
      "cell_type": "markdown",
      "metadata": {
        "id": "view-in-github",
        "colab_type": "text"
      },
      "source": [
        "<a href=\"https://colab.research.google.com/github/gopal2812/convandgpt/blob/main/a799.410.ipynb\" target=\"_parent\"><img src=\"https://colab.research.google.com/assets/colab-badge.svg\" alt=\"Open In Colab\"/></a>"
      ]
    },
    {
      "cell_type": "code",
      "execution_count": 1,
      "id": "9e0929d2",
      "metadata": {
        "colab": {
          "base_uri": "https://localhost:8080/"
        },
        "id": "9e0929d2",
        "outputId": "f4e760da-6271-4356-c4af-769a341a6e2a"
      },
      "outputs": [
        {
          "output_type": "stream",
          "name": "stdout",
          "text": [
            "Cloning into 'convandgpt'...\n",
            "remote: Enumerating objects: 27, done.\u001b[K\n",
            "remote: Counting objects: 100% (27/27), done.\u001b[K\n",
            "remote: Compressing objects: 100% (25/25), done.\u001b[K\n",
            "remote: Total 27 (delta 7), reused 0 (delta 0), pack-reused 0\u001b[K\n",
            "Receiving objects: 100% (27/27), 128.35 KiB | 2.29 MiB/s, done.\n",
            "Resolving deltas: 100% (7/7), done.\n"
          ]
        }
      ],
      "source": [
        "!git clone https://github.com/gopal2812/convandgpt.git\n",
        "import os"
      ]
    },
    {
      "cell_type": "code",
      "source": [
        "os.chdir(\"/content/convandgpt/session7\")"
      ],
      "metadata": {
        "id": "vWfzRrRHMHFp"
      },
      "id": "vWfzRrRHMHFp",
      "execution_count": 2,
      "outputs": []
    },
    {
      "cell_type": "code",
      "source": [
        "!pwd;ls"
      ],
      "metadata": {
        "colab": {
          "base_uri": "https://localhost:8080/"
        },
        "id": "gAbgWuYhMU55",
        "outputId": "409ecd54-41bd-4b82-d712-b458a4d9cb01"
      },
      "id": "gAbgWuYhMU55",
      "execution_count": 3,
      "outputs": [
        {
          "output_type": "stream",
          "name": "stdout",
          "text": [
            "/content/convandgpt/session7\n",
            "models.py  s7.ipynb  utils.py\n"
          ]
        }
      ]
    },
    {
      "cell_type": "code",
      "source": [
        "from __future__ import print_function\n",
        "import torch\n",
        "import torch.nn as nn\n",
        "import torch.nn.functional as F\n",
        "import torch.optim as optim\n",
        "from torchvision import datasets, transforms\n",
        "#from models import Model_1, Model_2, Model_3\n",
        "#import utils\n",
        "\n",
        "import torch.nn as nn\n",
        "import torch.nn.functional as F\n",
        "\n",
        "import matplotlib.pyplot as plt\n",
        "import torch\n",
        "from tqdm.notebook import tqdm\n",
        "\n",
        "# Set Seed for reproducibility\n",
        "SEED = 1\n",
        "torch.manual_seed(SEED)\n",
        "# Data to plot accuracy and loss graphs\n",
        "train_losses = []\n",
        "test_losses = []\n",
        "train_acc = []\n",
        "test_acc = []\n",
        "\n",
        "test_incorrect_pred = {\"images\": [], \"ground_truths\": [], \"predicted_vals\": []}\n",
        "\n",
        "import torch\n",
        "import torch.nn as nn\n",
        "import torch.nn.functional as F\n",
        "from tqdm import tqdm\n",
        "\n",
        "def train(model, device, train_loader, optimizer, epoch,train_acc,train_loss,lambda_l1,scheduler):\n",
        "\n",
        "  model.train()\n",
        "  pbar = tqdm(train_loader)\n",
        "\n",
        "  correct = 0\n",
        "  processed = 0\n",
        "\n",
        "  for batch_idx, (data, target) in enumerate(pbar):\n",
        "    # get samples\n",
        "    data, target = data.to(device), target.to(device)\n",
        "\n",
        "    # Init\n",
        "    optimizer.zero_grad()\n",
        "    # In PyTorch, we need to set the gradients to zero before starting to do backpropragation because PyTorch accumulates the gradients on subsequent backward passes.\n",
        "    # Because of this, when you start your training loop, ideally you should zero out the gradients so that you do the parameter update correctly.\n",
        "\n",
        "    # Predict\n",
        "    y_pred = model(data)\n",
        "\n",
        "    # Calculate loss\n",
        "    loss = F.nll_loss(y_pred, target)\n",
        "\n",
        "    #L1 Regularization\n",
        "    if lambda_l1 > 0:\n",
        "      l1 = 0\n",
        "      for p in model.parameters():\n",
        "        l1 = l1 + p.abs().sum()\n",
        "      loss = loss + lambda_l1*l1\n",
        "\n",
        "    train_loss.append(loss.data.cpu().numpy().item())\n",
        "\n",
        "    # Backpropagation\n",
        "    loss.backward()\n",
        "    optimizer.step()\n",
        "    scheduler.step()\n",
        "\n",
        "    # Update pbar-tqdm\n",
        "\n",
        "    pred = y_pred.argmax(dim=1, keepdim=True)  # get the index of the max log-probability\n",
        "    correct += pred.eq(target.view_as(pred)).sum().item()\n",
        "    processed += len(data)\n",
        "\n",
        "    pbar.set_description(desc= f'Loss={loss.item()} Batch_id={batch_idx} Accuracy={100*correct/processed:0.2f}')\n",
        "    train_acc.append(100*correct/processed)\n",
        "\n",
        "import torch\n",
        "import torch.nn.functional as F\n",
        "\n",
        "def test(model, device, test_loader,test_acc,test_losses):\n",
        "    model.eval()\n",
        "    test_loss = 0\n",
        "    correct = 0\n",
        "    with torch.no_grad():\n",
        "        for data, target in test_loader:\n",
        "            data, target = data.to(device), target.to(device)\n",
        "            output = model(data)\n",
        "            test_loss += F.nll_loss(output, target, reduction='sum').item()  # sum up batch loss\n",
        "            pred = output.argmax(dim=1, keepdim=True)  # get the index of the max log-probability\n",
        "            correct += pred.eq(target.view_as(pred)).sum().item()\n",
        "\n",
        "    test_loss /= len(test_loader.dataset)\n",
        "    test_losses.append(test_loss)\n",
        "\n",
        "    print('\\nTest set: Average loss: {:.4f}, Accuracy: {}/{} ({:.2f}%)\\n'.format(\n",
        "        test_loss, correct, len(test_loader.dataset),\n",
        "        100. * correct / len(test_loader.dataset)))\n",
        "\n",
        "    test_acc.append(100. * correct / len(test_loader.dataset))\n",
        "\n",
        "\n",
        "class Net6(nn.Module):\n",
        "    # This defines the structure of the NN.\n",
        "    def __init__(self):\n",
        "        super(Net6, self).__init__()\n",
        "\n",
        "        self.conv1 = nn.Sequential(\n",
        "            nn.Conv2d(1, 10, kernel_size=3),\n",
        "            nn.ReLU(),\n",
        "            nn.BatchNorm2d(10),\n",
        "            nn.Conv2d(10, 10, kernel_size=3),\n",
        "            nn.ReLU(),\n",
        "            nn.BatchNorm2d(10),\n",
        "            nn.Conv2d(10, 11, kernel_size=3),\n",
        "            nn.ReLU(),\n",
        "            nn.BatchNorm2d(11),\n",
        "        )\n",
        "        self.conv2 = nn.Sequential(\n",
        "            nn.Conv2d(11, 10, kernel_size=1),\n",
        "            nn.ReLU(),\n",
        "            # nn.BatchNorm2d(10),\n",
        "            nn.Conv2d(10, 10, kernel_size=3),\n",
        "            nn.ReLU(),\n",
        "            nn.BatchNorm2d(10),\n",
        "            #nn.Dropout(0.1),\n",
        "            nn.Conv2d(10, 10, kernel_size=3),\n",
        "            nn.ReLU(),\n",
        "            nn.BatchNorm2d(10),\n",
        "            nn.Conv2d(10, 22, kernel_size=3),\n",
        "            nn.ReLU(),\n",
        "            nn.BatchNorm2d(22),\n",
        "            nn.Conv2d(22, 10, kernel_size=1),\n",
        "        )\n",
        "        self.avgpool = nn.AdaptiveAvgPool2d(1)\n",
        "\n",
        "    def forward(self, x):\n",
        "        x = self.conv1(x)\n",
        "        x = F.max_pool2d(x, 2)\n",
        "        x = self.conv2(x)\n",
        "        x = self.avgpool(x)\n",
        "        x = x.view(-1, 10)\n",
        "        return F.log_softmax(x, dim=1)\n",
        "\n",
        "\n",
        "class Net5(nn.Module):\n",
        "    # This defines the structure of the NN.\n",
        "    def __init__(self):\n",
        "        super(Net5, self).__init__()\n",
        "\n",
        "        self.conv1 = nn.Sequential(\n",
        "            nn.Conv2d(1, 10, kernel_size=3),\n",
        "            nn.ReLU(),\n",
        "            nn.BatchNorm2d(10),\n",
        "            nn.Conv2d(10, 10, kernel_size=3),\n",
        "            nn.ReLU(),\n",
        "            nn.BatchNorm2d(10),\n",
        "            nn.Conv2d(10, 20, kernel_size=3),\n",
        "            nn.ReLU(),\n",
        "            nn.BatchNorm2d(20),\n",
        "        )\n",
        "        self.conv2 = nn.Sequential(\n",
        "            nn.Conv2d(20, 10, kernel_size=1),\n",
        "            # nn.ReLU(),\n",
        "            # nn.BatchNorm2d(10),\n",
        "            nn.Conv2d(10, 10, kernel_size=3),\n",
        "            nn.ReLU(),\n",
        "            nn.BatchNorm2d(10),\n",
        "            nn.Conv2d(10, 10, kernel_size=3),\n",
        "            nn.ReLU(),\n",
        "            nn.BatchNorm2d(10),\n",
        "            nn.Conv2d(10, 28, kernel_size=3),\n",
        "            nn.ReLU(),\n",
        "            nn.BatchNorm2d(28),\n",
        "            nn.Conv2d(28, 10, kernel_size=1),\n",
        "        )\n",
        "        self.avgpool = nn.AdaptiveAvgPool2d(1)\n",
        "\n",
        "    def forward(self, x):\n",
        "        x = self.conv1(x)\n",
        "        x = F.max_pool2d(x, 2)\n",
        "        x = self.conv2(x)\n",
        "        x = self.avgpool(x)\n",
        "        x = x.view(-1, 10)\n",
        "        return F.log_softmax(x, dim=1)\n",
        "\n",
        "\n",
        "class Net4(nn.Module):\n",
        "    # This defines the structure of the NN.\n",
        "    def __init__(self):\n",
        "        super(Net4, self).__init__()\n",
        "\n",
        "        self.conv1 = nn.Sequential(\n",
        "            nn.Conv2d(1, 10, kernel_size=3),\n",
        "            nn.ReLU(),\n",
        "            nn.BatchNorm2d(10),\n",
        "            nn.Conv2d(10, 10, kernel_size=3),\n",
        "            nn.ReLU(),\n",
        "            nn.BatchNorm2d(10),\n",
        "            nn.Conv2d(10, 20, kernel_size=3),\n",
        "            nn.ReLU(),\n",
        "            nn.BatchNorm2d(20),\n",
        "        )\n",
        "        self.conv2 = nn.Sequential(\n",
        "            nn.Conv2d(20, 10, kernel_size=1),\n",
        "            # nn.ReLU(),\n",
        "            # nn.BatchNorm2d(10),\n",
        "            nn.Conv2d(10, 10, kernel_size=3),\n",
        "            nn.ReLU(),\n",
        "            nn.BatchNorm2d(10),\n",
        "            nn.Conv2d(10, 10, kernel_size=3),\n",
        "            nn.ReLU(),\n",
        "            nn.BatchNorm2d(10),\n",
        "            nn.Conv2d(10, 10, kernel_size=3),\n",
        "            nn.ReLU(),\n",
        "            nn.BatchNorm2d(10),\n",
        "            nn.Conv2d(10, 20, kernel_size=3),\n",
        "            nn.ReLU(),\n",
        "            nn.BatchNorm2d(20),\n",
        "            nn.Conv2d(20, 10, kernel_size=1),\n",
        "        )\n",
        "        self.avgpool = nn.AdaptiveAvgPool2d(1)\n",
        "\n",
        "    def forward(self, x):\n",
        "        x = self.conv1(x)\n",
        "        x = F.max_pool2d(x, 2)\n",
        "        x = self.conv2(x)\n",
        "        x = self.avgpool(x)\n",
        "        x = x.view(-1, 10)\n",
        "        return F.log_softmax(x, dim=1)\n",
        "\n",
        "\n",
        "class Net3(nn.Module):\n",
        "    # This defines the structure of the NN.\n",
        "    def __init__(self):\n",
        "        super(Net3, self).__init__()\n",
        "\n",
        "        self.conv1 = nn.Sequential(\n",
        "            nn.Conv2d(1, 10, kernel_size=3),\n",
        "            nn.ReLU(),\n",
        "            nn.BatchNorm2d(10),\n",
        "            nn.Conv2d(10, 10, kernel_size=3),\n",
        "            nn.ReLU(),\n",
        "            nn.BatchNorm2d(10),\n",
        "            nn.Conv2d(10, 20, kernel_size=3),\n",
        "            nn.ReLU(),\n",
        "            nn.BatchNorm2d(20),\n",
        "        )\n",
        "        self.conv2 = nn.Sequential(\n",
        "            nn.Conv2d(20, 10, kernel_size=1),\n",
        "            # nn.ReLU(),\n",
        "            # nn.BatchNorm2d(10),\n",
        "            nn.Conv2d(10, 10, kernel_size=3),\n",
        "            nn.ReLU(),\n",
        "            nn.BatchNorm2d(10),\n",
        "            nn.Conv2d(10, 10, kernel_size=3),\n",
        "            nn.ReLU(),\n",
        "            nn.BatchNorm2d(10),\n",
        "            nn.Conv2d(10, 20, kernel_size=3),\n",
        "            nn.ReLU(),\n",
        "            nn.BatchNorm2d(20),\n",
        "            nn.Conv2d(20, 10, kernel_size=1),\n",
        "        )\n",
        "        self.avgpool = nn.AdaptiveAvgPool2d(1)\n",
        "\n",
        "    def forward(self, x):\n",
        "        x = self.conv1(x)\n",
        "        x = F.max_pool2d(x, 2)\n",
        "        x = self.conv2(x)\n",
        "        x = self.avgpool(x)\n",
        "        x = x.view(-1, 10)\n",
        "        return F.log_softmax(x, dim=1)\n",
        "\n",
        "\n",
        "class Net2(nn.Module):\n",
        "    # This defines the structure of the NN.\n",
        "    def __init__(self):\n",
        "        super(Net2, self).__init__()\n",
        "\n",
        "        self.conv1 = nn.Sequential(\n",
        "            nn.Conv2d(1, 10, kernel_size=3),\n",
        "            nn.ReLU(),\n",
        "            nn.BatchNorm2d(10),\n",
        "            nn.Conv2d(10, 10, kernel_size=3),\n",
        "            nn.ReLU(),\n",
        "            nn.BatchNorm2d(10),\n",
        "            nn.Conv2d(10, 20, kernel_size=3),\n",
        "            nn.ReLU(),\n",
        "            nn.BatchNorm2d(20),\n",
        "        )\n",
        "        self.conv2 = nn.Sequential(\n",
        "            nn.Conv2d(20, 10, kernel_size=1),\n",
        "            # nn.ReLU(),\n",
        "            # nn.BatchNorm2d(10),\n",
        "            nn.Conv2d(10, 10, kernel_size=3),\n",
        "            nn.ReLU(),\n",
        "            nn.BatchNorm2d(10),\n",
        "            nn.Conv2d(10, 10, kernel_size=3),\n",
        "            nn.ReLU(),\n",
        "            nn.BatchNorm2d(10),\n",
        "            nn.Conv2d(10, 10, kernel_size=3),\n",
        "            nn.ReLU(),\n",
        "            nn.BatchNorm2d(10),\n",
        "        )\n",
        "        self.avgpool = nn.AdaptiveAvgPool2d(1)\n",
        "\n",
        "    def forward(self, x):\n",
        "        x = self.conv1(x)\n",
        "        x = F.max_pool2d(x, 2)\n",
        "        x = self.conv2(x)\n",
        "        x = self.avgpool(x)\n",
        "        x = x.view(-1, 10)\n",
        "        return F.log_softmax(x, dim=1)\n",
        "\n",
        "\n",
        "class Net1(nn.Module):\n",
        "    # This defines the structure of the NN.\n",
        "    def __init__(self):\n",
        "        super(Net1, self).__init__()\n",
        "\n",
        "        self.conv1 = nn.Sequential(\n",
        "            nn.Conv2d(1, 16, kernel_size=3),\n",
        "            nn.ReLU(),\n",
        "            nn.BatchNorm2d(16),\n",
        "            nn.Conv2d(16, 16, kernel_size=3),\n",
        "            nn.ReLU(),\n",
        "            nn.BatchNorm2d(16),\n",
        "            nn.Conv2d(16, 32, kernel_size=3),\n",
        "            nn.ReLU(),\n",
        "            nn.BatchNorm2d(32),\n",
        "        )\n",
        "        self.conv2 = nn.Sequential(\n",
        "            nn.Conv2d(32, 32, kernel_size=1, stride=2),\n",
        "            # nn.ReLU(),\n",
        "            # nn.BatchNorm2d(32),\n",
        "            nn.Conv2d(32, 16, kernel_size=3),\n",
        "            nn.ReLU(),\n",
        "            nn.BatchNorm2d(16),\n",
        "            nn.Conv2d(16, 16, kernel_size=3),\n",
        "            nn.ReLU(),\n",
        "            nn.BatchNorm2d(16),\n",
        "            nn.Conv2d(32, 32, kernel_size=3),\n",
        "            nn.ReLU(),\n",
        "            nn.BatchNorm2d(32),\n",
        "        )\n",
        "        self.avgpool = nn.AvgPool2d(5)\n",
        "        self.fc1 = nn.Linear(32, 10)\n",
        "\n",
        "    def forward(self, x):\n",
        "        x = self.conv1(x)\n",
        "        x = self.conv2(x)\n",
        "        x = self.avgpool(x)\n",
        "        x = x.view(-1, 32)\n",
        "        x = self.fc1(x)\n",
        "        return F.log_softmax(x, dim=1)\n",
        "\n",
        "# del model\n",
        "import torch\n",
        "import torch.nn as nn\n",
        "import torch.optim as optim\n",
        "from torchvision import datasets, transforms\n",
        "#from utils import train, test\n",
        "import torch.nn.functional as F\n",
        "\n",
        "# CUDA?\n",
        "cuda = torch.cuda.is_available()\n",
        "print(\"CUDA Available?\", cuda)\n",
        "\n",
        "!pip install torchsummary\n",
        "from torchsummary import summary\n",
        "import torch\n",
        "\n",
        "use_cuda = torch.cuda.is_available()\n",
        "device = torch.device(\"cuda\" if use_cuda else \"cpu\")\n",
        "#device=torch.device(\"mps\")\n",
        "model = Net6().to(device)\n",
        "summary(model, input_size=(1, 28, 28))\n",
        "\n",
        "# Train data transformations\n",
        "train_transforms = transforms.Compose([\n",
        "    transforms.RandomApply([transforms.CenterCrop(22), ], p=0.05),\n",
        "    #transforms.RandomResizedCrop(size=(27, 27)),\n",
        "    transforms.Resize((28, 28)),\n",
        "    transforms.RandomRotation((-12., 12.), fill=0),\n",
        "    transforms.RandomAffine(degrees=5, shear=5, translate=(0.1, 0.1), scale=(0.8, 1.2)),\n",
        "    transforms.ColorJitter(brightness=0.4, contrast=0.4, saturation=0.40, hue=0.1),\n",
        "    transforms.ToTensor(),\n",
        "    transforms.Normalize((0.1307,), (0.3081,)),\n",
        "    ])\n",
        "\n",
        "# Test data transformations\n",
        "test_transforms = transforms.Compose([\n",
        "    transforms.ToTensor(),\n",
        "    transforms.Normalize((0.1307,), (0.3081,))\n",
        "    ])\n",
        "\n",
        "train_data = datasets.MNIST('../data', train=True, download=True, transform=train_transforms)\n",
        "test_data = datasets.MNIST('../data', train=False, download=True, transform=test_transforms)\n",
        "\n",
        "batch_size = 64\n",
        "\n",
        "kwargs = {'batch_size': batch_size, 'shuffle': True, 'num_workers': 2, 'pin_memory': True}\n",
        "\n",
        "test_loader = torch.utils.data.DataLoader(test_data, **kwargs)\n",
        "train_loader = torch.utils.data.DataLoader(train_data, **kwargs)\n",
        "\n",
        "import matplotlib.pyplot as plt\n",
        "\n",
        "batch_data, batch_label = next(iter(train_loader))\n",
        "\n",
        "fig = plt.figure()\n",
        "\n",
        "for i in range(12):\n",
        "  plt.subplot(3,4,i+1)\n",
        "  plt.tight_layout()\n",
        "  plt.imshow(batch_data[i].squeeze(0), cmap='gray')\n",
        "  plt.title(batch_label[i].item())\n",
        "  plt.xticks([])\n",
        "  plt.yticks([])\n",
        "\n",
        "from torch.optim.lr_scheduler import StepLR,OneCycleLR\n",
        "import torch.optim as optim\n",
        "\n",
        "model = Net6().to(device)\n",
        "#optimizer = optim.SGD(model.parameters(), lr=0.04, momentum=0.9)\n",
        "#scheduler = optim.lr_scheduler.StepLR(optimizer, step_size=7, gamma=0.1, verbose=True)\n",
        "# New Line\n",
        "criterion = F.nll_loss\n",
        "num_epochs = 15\n",
        "l1_factor=0\n",
        "l2_factor=0\n",
        "epochs = 15\n",
        "optimizer = optim.SGD(model.parameters(), lr=0.025, momentum=0.97,weight_decay=l2_factor)\n",
        "scheduler = OneCycleLR(optimizer, max_lr=0.025,epochs=epochs,steps_per_epoch=len(train_loader))\n",
        "train_losses = []\n",
        "test_losses = []\n",
        "train_accuracy = []\n",
        "test_accuracy = []\n",
        "\n",
        "\n",
        "\n",
        "for epoch in range(1, epochs + 1):\n",
        "    print(f'Epoch {epoch}:')\n",
        "    train(model, device, train_loader, optimizer, epoch, train_accuracy, train_losses, l1_factor,scheduler)\n",
        "    test(model, device, test_loader,test_accuracy,test_losses)\n"
      ],
      "metadata": {
        "colab": {
          "base_uri": "https://localhost:8080/",
          "height": 1000
        },
        "id": "ZBK7cvuXLGqy",
        "outputId": "448db730-f0dc-40bd-e005-1a17f8904394"
      },
      "id": "ZBK7cvuXLGqy",
      "execution_count": 5,
      "outputs": [
        {
          "output_type": "stream",
          "name": "stdout",
          "text": [
            "CUDA Available? False\n",
            "Requirement already satisfied: torchsummary in /usr/local/lib/python3.10/dist-packages (1.5.1)\n",
            "----------------------------------------------------------------\n",
            "        Layer (type)               Output Shape         Param #\n",
            "================================================================\n",
            "            Conv2d-1           [-1, 10, 26, 26]             100\n",
            "              ReLU-2           [-1, 10, 26, 26]               0\n",
            "       BatchNorm2d-3           [-1, 10, 26, 26]              20\n",
            "            Conv2d-4           [-1, 10, 24, 24]             910\n",
            "              ReLU-5           [-1, 10, 24, 24]               0\n",
            "       BatchNorm2d-6           [-1, 10, 24, 24]              20\n",
            "            Conv2d-7           [-1, 11, 22, 22]           1,001\n",
            "              ReLU-8           [-1, 11, 22, 22]               0\n",
            "       BatchNorm2d-9           [-1, 11, 22, 22]              22\n",
            "           Conv2d-10           [-1, 10, 11, 11]             120\n",
            "             ReLU-11           [-1, 10, 11, 11]               0\n",
            "           Conv2d-12             [-1, 10, 9, 9]             910\n",
            "             ReLU-13             [-1, 10, 9, 9]               0\n",
            "      BatchNorm2d-14             [-1, 10, 9, 9]              20\n",
            "           Conv2d-15             [-1, 10, 7, 7]             910\n",
            "             ReLU-16             [-1, 10, 7, 7]               0\n",
            "      BatchNorm2d-17             [-1, 10, 7, 7]              20\n",
            "           Conv2d-18             [-1, 22, 5, 5]           2,002\n",
            "             ReLU-19             [-1, 22, 5, 5]               0\n",
            "      BatchNorm2d-20             [-1, 22, 5, 5]              44\n",
            "           Conv2d-21             [-1, 10, 5, 5]             230\n",
            "AdaptiveAvgPool2d-22             [-1, 10, 1, 1]               0\n",
            "================================================================\n",
            "Total params: 6,329\n",
            "Trainable params: 6,329\n",
            "Non-trainable params: 0\n",
            "----------------------------------------------------------------\n",
            "Input size (MB): 0.00\n",
            "Forward/backward pass size (MB): 0.47\n",
            "Params size (MB): 0.02\n",
            "Estimated Total Size (MB): 0.50\n",
            "----------------------------------------------------------------\n",
            "Epoch 1:\n"
          ]
        },
        {
          "output_type": "stream",
          "name": "stderr",
          "text": [
            "Loss=0.4252340495586395 Batch_id=937 Accuracy=73.00: 100%|██████████| 938/938 [01:59<00:00,  7.84it/s]\n"
          ]
        },
        {
          "output_type": "stream",
          "name": "stdout",
          "text": [
            "\n",
            "Test set: Average loss: 0.1204, Accuracy: 9651/10000 (96.51%)\n",
            "\n",
            "Epoch 2:\n"
          ]
        },
        {
          "output_type": "stream",
          "name": "stderr",
          "text": [
            "Loss=0.11747042089700699 Batch_id=937 Accuracy=93.76: 100%|██████████| 938/938 [01:50<00:00,  8.50it/s]\n"
          ]
        },
        {
          "output_type": "stream",
          "name": "stdout",
          "text": [
            "\n",
            "Test set: Average loss: 0.0530, Accuracy: 9828/10000 (98.28%)\n",
            "\n",
            "Epoch 3:\n"
          ]
        },
        {
          "output_type": "stream",
          "name": "stderr",
          "text": [
            "Loss=0.08290686458349228 Batch_id=937 Accuracy=95.50: 100%|██████████| 938/938 [01:47<00:00,  8.76it/s]\n"
          ]
        },
        {
          "output_type": "stream",
          "name": "stdout",
          "text": [
            "\n",
            "Test set: Average loss: 0.0533, Accuracy: 9827/10000 (98.27%)\n",
            "\n",
            "Epoch 4:\n"
          ]
        },
        {
          "output_type": "stream",
          "name": "stderr",
          "text": [
            "Loss=0.2656705677509308 Batch_id=937 Accuracy=96.21: 100%|██████████| 938/938 [01:49<00:00,  8.59it/s]\n"
          ]
        },
        {
          "output_type": "stream",
          "name": "stdout",
          "text": [
            "\n",
            "Test set: Average loss: 0.0376, Accuracy: 9879/10000 (98.79%)\n",
            "\n",
            "Epoch 5:\n"
          ]
        },
        {
          "output_type": "stream",
          "name": "stderr",
          "text": [
            "Loss=0.041933901607990265 Batch_id=937 Accuracy=96.84: 100%|██████████| 938/938 [01:46<00:00,  8.80it/s]\n"
          ]
        },
        {
          "output_type": "stream",
          "name": "stdout",
          "text": [
            "\n",
            "Test set: Average loss: 0.0275, Accuracy: 9910/10000 (99.10%)\n",
            "\n",
            "Epoch 6:\n"
          ]
        },
        {
          "output_type": "stream",
          "name": "stderr",
          "text": [
            "Loss=0.11667545139789581 Batch_id=937 Accuracy=97.04: 100%|██████████| 938/938 [01:49<00:00,  8.58it/s]\n"
          ]
        },
        {
          "output_type": "stream",
          "name": "stdout",
          "text": [
            "\n",
            "Test set: Average loss: 0.0271, Accuracy: 9912/10000 (99.12%)\n",
            "\n",
            "Epoch 7:\n"
          ]
        },
        {
          "output_type": "stream",
          "name": "stderr",
          "text": [
            "Loss=0.07562266290187836 Batch_id=937 Accuracy=97.15: 100%|██████████| 938/938 [01:49<00:00,  8.58it/s]\n"
          ]
        },
        {
          "output_type": "stream",
          "name": "stdout",
          "text": [
            "\n",
            "Test set: Average loss: 0.0311, Accuracy: 9906/10000 (99.06%)\n",
            "\n",
            "Epoch 8:\n"
          ]
        },
        {
          "output_type": "stream",
          "name": "stderr",
          "text": [
            "Loss=0.16357053816318512 Batch_id=937 Accuracy=97.41: 100%|██████████| 938/938 [01:47<00:00,  8.70it/s]\n"
          ]
        },
        {
          "output_type": "stream",
          "name": "stdout",
          "text": [
            "\n",
            "Test set: Average loss: 0.0246, Accuracy: 9912/10000 (99.12%)\n",
            "\n",
            "Epoch 9:\n"
          ]
        },
        {
          "output_type": "stream",
          "name": "stderr",
          "text": [
            "Loss=0.1181824579834938 Batch_id=937 Accuracy=97.52: 100%|██████████| 938/938 [01:50<00:00,  8.53it/s]\n"
          ]
        },
        {
          "output_type": "stream",
          "name": "stdout",
          "text": [
            "\n",
            "Test set: Average loss: 0.0219, Accuracy: 9930/10000 (99.30%)\n",
            "\n",
            "Epoch 10:\n"
          ]
        },
        {
          "output_type": "stream",
          "name": "stderr",
          "text": [
            "Loss=0.39361363649368286 Batch_id=937 Accuracy=97.60: 100%|██████████| 938/938 [01:48<00:00,  8.66it/s]\n"
          ]
        },
        {
          "output_type": "stream",
          "name": "stdout",
          "text": [
            "\n",
            "Test set: Average loss: 0.0213, Accuracy: 9937/10000 (99.37%)\n",
            "\n",
            "Epoch 11:\n"
          ]
        },
        {
          "output_type": "stream",
          "name": "stderr",
          "text": [
            "Loss=0.08829805254936218 Batch_id=937 Accuracy=97.71: 100%|██████████| 938/938 [01:47<00:00,  8.73it/s]\n"
          ]
        },
        {
          "output_type": "stream",
          "name": "stdout",
          "text": [
            "\n",
            "Test set: Average loss: 0.0199, Accuracy: 9944/10000 (99.44%)\n",
            "\n",
            "Epoch 12:\n"
          ]
        },
        {
          "output_type": "stream",
          "name": "stderr",
          "text": [
            "Loss=0.15331445634365082 Batch_id=937 Accuracy=97.92: 100%|██████████| 938/938 [01:48<00:00,  8.61it/s]\n"
          ]
        },
        {
          "output_type": "stream",
          "name": "stdout",
          "text": [
            "\n",
            "Test set: Average loss: 0.0180, Accuracy: 9940/10000 (99.40%)\n",
            "\n",
            "Epoch 13:\n"
          ]
        },
        {
          "output_type": "stream",
          "name": "stderr",
          "text": [
            "Loss=0.07771294564008713 Batch_id=937 Accuracy=97.96: 100%|██████████| 938/938 [01:46<00:00,  8.79it/s]\n"
          ]
        },
        {
          "output_type": "stream",
          "name": "stdout",
          "text": [
            "\n",
            "Test set: Average loss: 0.0171, Accuracy: 9941/10000 (99.41%)\n",
            "\n",
            "Epoch 14:\n"
          ]
        },
        {
          "output_type": "stream",
          "name": "stderr",
          "text": [
            "Loss=0.03085325099527836 Batch_id=937 Accuracy=98.09: 100%|██████████| 938/938 [01:47<00:00,  8.74it/s]\n"
          ]
        },
        {
          "output_type": "stream",
          "name": "stdout",
          "text": [
            "\n",
            "Test set: Average loss: 0.0166, Accuracy: 9942/10000 (99.42%)\n",
            "\n",
            "Epoch 15:\n"
          ]
        },
        {
          "output_type": "stream",
          "name": "stderr",
          "text": [
            "Loss=0.019014770165085793 Batch_id=937 Accuracy=98.27: 100%|██████████| 938/938 [01:48<00:00,  8.61it/s]\n"
          ]
        },
        {
          "output_type": "stream",
          "name": "stdout",
          "text": [
            "\n",
            "Test set: Average loss: 0.0162, Accuracy: 9944/10000 (99.44%)\n",
            "\n"
          ]
        },
        {
          "output_type": "display_data",
          "data": {
            "text/plain": [
              "<Figure size 640x480 with 12 Axes>"
            ],
            "image/png": "[encoded data removed]"
          },
          "metadata": {}
        }
      ]
    },
    {
      "cell_type": "code",
      "execution_count": 5,
      "id": "125a27ea",
      "metadata": {
        "id": "125a27ea"
      },
      "outputs": [],
      "source": [
        "# Train Phase transformations\n",
        "# Train data transformations\n",
        "torch.manual_seed(1)\n",
        "use_cuda = torch.cuda.is_available()\n",
        "batch_size = 64\n",
        "train_transforms = transforms.Compose([\n",
        "    transforms.RandomApply([transforms.CenterCrop(26), ], p=0.1),\n",
        "    transforms.Resize((28, 28)),\n",
        "    transforms.RandomRotation((-15., 15.), fill=0),\n",
        "    transforms.ToTensor(),\n",
        "    transforms.Normalize((0.1307,), (0.3081,)),\n",
        "    batch_size=batch_size, shuffle=True, **kwargs\n",
        "    ])\n",
        "\n",
        "# Test data transformations\n",
        "test_transforms = transforms.Compose([\n",
        "    transforms.ToTensor(),\n",
        "    transforms.Normalize((0.1307,), (0.3081,)),\n",
        "    batch_size=batch_size, shuffle=True, **kwargs\n",
        "    ])"
      ]
    },
    {
      "cell_type": "code",
      "execution_count": 6,
      "id": "deee4349",
      "metadata": {
        "colab": {
          "base_uri": "https://localhost:8080/"
        },
        "id": "deee4349",
        "outputId": "0afe0894-62bf-44e8-fb31-92fb717648ea"
      },
      "outputs": [
        {
          "output_type": "stream",
          "name": "stdout",
          "text": [
            "Downloading http://yann.lecun.com/exdb/mnist/train-images-idx3-ubyte.gz\n",
            "Downloading http://yann.lecun.com/exdb/mnist/train-images-idx3-ubyte.gz to ./data/MNIST/raw/train-images-idx3-ubyte.gz\n"
          ]
        },
        {
          "output_type": "stream",
          "name": "stderr",
          "text": [
            "100%|██████████| 9912422/9912422 [00:00<00:00, 82710410.58it/s]\n"
          ]
        },
        {
          "output_type": "stream",
          "name": "stdout",
          "text": [
            "Extracting ./data/MNIST/raw/train-images-idx3-ubyte.gz to ./data/MNIST/raw\n",
            "\n",
            "Downloading http://yann.lecun.com/exdb/mnist/train-labels-idx1-ubyte.gz\n",
            "Downloading http://yann.lecun.com/exdb/mnist/train-labels-idx1-ubyte.gz to ./data/MNIST/raw/train-labels-idx1-ubyte.gz\n"
          ]
        },
        {
          "output_type": "stream",
          "name": "stderr",
          "text": [
            "100%|██████████| 28881/28881 [00:00<00:00, 109033027.74it/s]\n"
          ]
        },
        {
          "output_type": "stream",
          "name": "stdout",
          "text": [
            "Extracting ./data/MNIST/raw/train-labels-idx1-ubyte.gz to ./data/MNIST/raw\n",
            "\n",
            "Downloading http://yann.lecun.com/exdb/mnist/t10k-images-idx3-ubyte.gz\n",
            "Downloading http://yann.lecun.com/exdb/mnist/t10k-images-idx3-ubyte.gz to ./data/MNIST/raw/t10k-images-idx3-ubyte.gz\n"
          ]
        },
        {
          "output_type": "stream",
          "name": "stderr",
          "text": [
            "100%|██████████| 1648877/1648877 [00:00<00:00, 32291597.31it/s]\n"
          ]
        },
        {
          "output_type": "stream",
          "name": "stdout",
          "text": [
            "Extracting ./data/MNIST/raw/t10k-images-idx3-ubyte.gz to ./data/MNIST/raw\n",
            "\n",
            "Downloading http://yann.lecun.com/exdb/mnist/t10k-labels-idx1-ubyte.gz\n",
            "Downloading http://yann.lecun.com/exdb/mnist/t10k-labels-idx1-ubyte.gz to ./data/MNIST/raw/t10k-labels-idx1-ubyte.gz\n"
          ]
        },
        {
          "output_type": "stream",
          "name": "stderr",
          "text": [
            "100%|██████████| 4542/4542 [00:00<00:00, 6578221.26it/s]\n"
          ]
        },
        {
          "output_type": "stream",
          "name": "stdout",
          "text": [
            "Extracting ./data/MNIST/raw/t10k-labels-idx1-ubyte.gz to ./data/MNIST/raw\n",
            "\n"
          ]
        }
      ],
      "source": [
        "train = datasets.MNIST('./data', train=True, download=True, transform=train_transforms)\n",
        "test = datasets.MNIST('./data', train=False, download=True, transform=test_transforms)"
      ]
    },
    {
      "cell_type": "code",
      "execution_count": 7,
      "id": "fe091c02",
      "metadata": {
        "colab": {
          "base_uri": "https://localhost:8080/"
        },
        "id": "fe091c02",
        "outputId": "846f8def-4d66-4db3-f286-253eda46f831"
      },
      "outputs": [
        {
          "output_type": "stream",
          "name": "stdout",
          "text": [
            "CUDA Available? True\n"
          ]
        },
        {
          "output_type": "stream",
          "name": "stderr",
          "text": [
            "/usr/local/lib/python3.10/dist-packages/torch/utils/data/dataloader.py:557: UserWarning: This DataLoader will create 4 worker processes in total. Our suggested max number of worker in current system is 2, which is smaller than what this DataLoader is going to create. Please be aware that excessive worker creation might get DataLoader running slow or even freeze, lower the worker number to avoid potential slowness/freeze if necessary.\n",
            "  warnings.warn(_create_warning_msg(\n"
          ]
        }
      ],
      "source": [
        "SEED = 1\n",
        "\n",
        "# CUDA?\n",
        "cuda = torch.cuda.is_available()\n",
        "print(\"CUDA Available?\", cuda)\n",
        "\n",
        "# For reproducibility\n",
        "torch.manual_seed(SEED)\n",
        "\n",
        "if cuda:\n",
        "    torch.cuda.manual_seed(SEED)\n",
        "\n",
        "# dataloader arguments - something you'll fetch these from cmdprmt\n",
        "dataloader_args = dict(shuffle=True, batch_size=64, num_workers=4, pin_memory=True) if cuda else dict(shuffle=True, batch_size=64)\n",
        "\n",
        "# train dataloader\n",
        "train_loader = torch.utils.data.DataLoader(train, **dataloader_args)\n",
        "\n",
        "# test dataloader\n",
        "test_loader = torch.utils.data.DataLoader(test, **dataloader_args)"
      ]
    },
    {
      "cell_type": "code",
      "execution_count": 8,
      "id": "7f82f0f2",
      "metadata": {
        "colab": {
          "base_uri": "https://localhost:8080/"
        },
        "id": "7f82f0f2",
        "outputId": "8a86b05b-8b54-41e1-d693-995a3aea4026"
      },
      "outputs": [
        {
          "output_type": "stream",
          "name": "stdout",
          "text": [
            "Downloading http://yann.lecun.com/exdb/mnist/train-images-idx3-ubyte.gz\n",
            "Downloading http://yann.lecun.com/exdb/mnist/train-images-idx3-ubyte.gz to ../data/MNIST/raw/train-images-idx3-ubyte.gz\n"
          ]
        },
        {
          "output_type": "stream",
          "name": "stderr",
          "text": [
            "100%|██████████| 9912422/9912422 [00:00<00:00, 119735711.14it/s]\n"
          ]
        },
        {
          "output_type": "stream",
          "name": "stdout",
          "text": [
            "Extracting ../data/MNIST/raw/train-images-idx3-ubyte.gz to ../data/MNIST/raw\n",
            "\n",
            "Downloading http://yann.lecun.com/exdb/mnist/train-labels-idx1-ubyte.gz\n",
            "Downloading http://yann.lecun.com/exdb/mnist/train-labels-idx1-ubyte.gz to ../data/MNIST/raw/train-labels-idx1-ubyte.gz\n"
          ]
        },
        {
          "output_type": "stream",
          "name": "stderr",
          "text": [
            "100%|██████████| 28881/28881 [00:00<00:00, 39651618.27it/s]\n"
          ]
        },
        {
          "output_type": "stream",
          "name": "stdout",
          "text": [
            "Extracting ../data/MNIST/raw/train-labels-idx1-ubyte.gz to ../data/MNIST/raw\n",
            "\n",
            "Downloading http://yann.lecun.com/exdb/mnist/t10k-images-idx3-ubyte.gz\n",
            "Downloading http://yann.lecun.com/exdb/mnist/t10k-images-idx3-ubyte.gz to ../data/MNIST/raw/t10k-images-idx3-ubyte.gz\n"
          ]
        },
        {
          "output_type": "stream",
          "name": "stderr",
          "text": [
            "100%|██████████| 1648877/1648877 [00:00<00:00, 33366420.76it/s]\n"
          ]
        },
        {
          "output_type": "stream",
          "name": "stdout",
          "text": [
            "Extracting ../data/MNIST/raw/t10k-images-idx3-ubyte.gz to ../data/MNIST/raw\n",
            "\n",
            "Downloading http://yann.lecun.com/exdb/mnist/t10k-labels-idx1-ubyte.gz\n",
            "Downloading http://yann.lecun.com/exdb/mnist/t10k-labels-idx1-ubyte.gz to ../data/MNIST/raw/t10k-labels-idx1-ubyte.gz\n"
          ]
        },
        {
          "output_type": "stream",
          "name": "stderr",
          "text": [
            "100%|██████████| 4542/4542 [00:00<00:00, 4062812.70it/s]\n"
          ]
        },
        {
          "output_type": "stream",
          "name": "stdout",
          "text": [
            "Extracting ../data/MNIST/raw/t10k-labels-idx1-ubyte.gz to ../data/MNIST/raw\n",
            "\n"
          ]
        }
      ],
      "source": [
        "torch.manual_seed(1)\n",
        "use_cuda = torch.cuda.is_available()\n",
        "batch_size = 64\n",
        "\n",
        "kwargs = {'num_workers': 1, 'pin_memory': True} if use_cuda else {}\n",
        "train_loader = torch.utils.data.DataLoader(\n",
        "    datasets.MNIST('../data', train=True, download=True,\n",
        "                    transform=transforms.Compose([\n",
        "                        transforms.ToTensor(),\n",
        "                        transforms.Normalize((0.1307,), (0.3081,))\n",
        "                    ])),\n",
        "    batch_size=batch_size, shuffle=True, **kwargs)\n",
        "test_loader = torch.utils.data.DataLoader(\n",
        "    datasets.MNIST('../data', train=False, transform=transforms.Compose([\n",
        "                        transforms.ToTensor(),\n",
        "                        transforms.Normalize((0.1307,), (0.3081,))\n",
        "                    ])),\n",
        "    batch_size=batch_size, shuffle=True, **kwargs)"
      ]
    },
    {
      "cell_type": "markdown",
      "id": "669d6d9b",
      "metadata": {
        "id": "669d6d9b"
      },
      "source": [
        "## Model 1"
      ]
    },
    {
      "cell_type": "code",
      "execution_count": 9,
      "id": "dde57f1f",
      "metadata": {
        "colab": {
          "base_uri": "https://localhost:8080/"
        },
        "id": "dde57f1f",
        "outputId": "d53c3a92-581e-4489-b1cc-06f250baf332"
      },
      "outputs": [
        {
          "output_type": "stream",
          "name": "stdout",
          "text": [
            "----------------------------------------------------------------\n",
            "        Layer (type)               Output Shape         Param #\n",
            "================================================================\n",
            "            Conv2d-1            [-1, 8, 26, 26]              72\n",
            "              ReLU-2            [-1, 8, 26, 26]               0\n",
            "       BatchNorm2d-3            [-1, 8, 26, 26]              16\n",
            "           Dropout-4            [-1, 8, 26, 26]               0\n",
            "            Conv2d-5           [-1, 16, 24, 24]           1,152\n",
            "              ReLU-6           [-1, 16, 24, 24]               0\n",
            "       BatchNorm2d-7           [-1, 16, 24, 24]              32\n",
            "           Dropout-8           [-1, 16, 24, 24]               0\n",
            "            Conv2d-9           [-1, 10, 24, 24]             160\n",
            "        MaxPool2d-10           [-1, 10, 12, 12]               0\n",
            "           Conv2d-11           [-1, 10, 10, 10]             900\n",
            "             ReLU-12           [-1, 10, 10, 10]               0\n",
            "      BatchNorm2d-13           [-1, 10, 10, 10]              20\n",
            "          Dropout-14           [-1, 10, 10, 10]               0\n",
            "           Conv2d-15           [-1, 10, 10, 10]             900\n",
            "             ReLU-16           [-1, 10, 10, 10]               0\n",
            "      BatchNorm2d-17           [-1, 10, 10, 10]              20\n",
            "          Dropout-18           [-1, 10, 10, 10]               0\n",
            "        MaxPool2d-19             [-1, 10, 5, 5]               0\n",
            "           Conv2d-20             [-1, 10, 5, 5]             900\n",
            "             ReLU-21             [-1, 10, 5, 5]               0\n",
            "      BatchNorm2d-22             [-1, 10, 5, 5]              20\n",
            "          Dropout-23             [-1, 10, 5, 5]               0\n",
            "        AvgPool2d-24             [-1, 10, 1, 1]               0\n",
            "           Conv2d-25             [-1, 10, 1, 1]             100\n",
            "      BatchNorm2d-26             [-1, 10, 1, 1]              20\n",
            "             ReLU-27             [-1, 10, 1, 1]               0\n",
            "          Dropout-28             [-1, 10, 1, 1]               0\n",
            "================================================================\n",
            "Total params: 4,312\n",
            "Trainable params: 4,312\n",
            "Non-trainable params: 0\n",
            "----------------------------------------------------------------\n",
            "Input size (MB): 0.00\n",
            "Forward/backward pass size (MB): 0.57\n",
            "Params size (MB): 0.02\n",
            "Estimated Total Size (MB): 0.59\n",
            "----------------------------------------------------------------\n"
          ]
        }
      ],
      "source": [
        "# !pip install torchsummary\n",
        "from torchsummary import summary\n",
        "device = torch.device(\"cuda\" if use_cuda else \"cpu\")\n",
        "model = Model_1().to(device)\n",
        "summary(model, input_size=(1, 28, 28))"
      ]
    },
    {
      "cell_type": "code",
      "execution_count": 10,
      "id": "b0e4685b",
      "metadata": {
        "colab": {
          "base_uri": "https://localhost:8080/"
        },
        "id": "b0e4685b",
        "outputId": "3c61e3f4-1512-4863-8686-51ac728a9582"
      },
      "outputs": [
        {
          "output_type": "stream",
          "name": "stdout",
          "text": [
            "EPOCH: 1\n"
          ]
        },
        {
          "output_type": "stream",
          "name": "stderr",
          "text": [
            "Loss=0.32541757822036743 Batch_id=937 Accuracy=81.55: 100%|██████████| 938/938 [00:26<00:00, 35.24it/s]\n"
          ]
        },
        {
          "output_type": "stream",
          "name": "stdout",
          "text": [
            "\n",
            "Test set: Average loss: 0.1577, Accuracy: 9669/10000 (96.69%)\n",
            "\n",
            "EPOCH: 2\n"
          ]
        },
        {
          "output_type": "stream",
          "name": "stderr",
          "text": [
            "Loss=0.3536863327026367 Batch_id=937 Accuracy=85.97: 100%|██████████| 938/938 [00:21<00:00, 42.76it/s]\n"
          ]
        },
        {
          "output_type": "stream",
          "name": "stdout",
          "text": [
            "\n",
            "Test set: Average loss: 0.1387, Accuracy: 9664/10000 (96.64%)\n",
            "\n",
            "EPOCH: 3\n"
          ]
        },
        {
          "output_type": "stream",
          "name": "stderr",
          "text": [
            "Loss=0.2761813998222351 Batch_id=937 Accuracy=87.00: 100%|██████████| 938/938 [00:22<00:00, 42.45it/s]\n"
          ]
        },
        {
          "output_type": "stream",
          "name": "stdout",
          "text": [
            "\n",
            "Test set: Average loss: 0.0927, Accuracy: 9789/10000 (97.89%)\n",
            "\n",
            "EPOCH: 4\n"
          ]
        },
        {
          "output_type": "stream",
          "name": "stderr",
          "text": [
            "Loss=0.40459689497947693 Batch_id=937 Accuracy=87.24: 100%|██████████| 938/938 [00:22<00:00, 41.25it/s]\n"
          ]
        },
        {
          "output_type": "stream",
          "name": "stdout",
          "text": [
            "\n",
            "Test set: Average loss: 0.0851, Accuracy: 9808/10000 (98.08%)\n",
            "\n",
            "EPOCH: 5\n"
          ]
        },
        {
          "output_type": "stream",
          "name": "stderr",
          "text": [
            "Loss=0.3479410707950592 Batch_id=937 Accuracy=87.73: 100%|██████████| 938/938 [00:22<00:00, 42.11it/s]\n"
          ]
        },
        {
          "output_type": "stream",
          "name": "stdout",
          "text": [
            "\n",
            "Test set: Average loss: 0.0729, Accuracy: 9842/10000 (98.42%)\n",
            "\n",
            "EPOCH: 6\n"
          ]
        },
        {
          "output_type": "stream",
          "name": "stderr",
          "text": [
            "Loss=0.12730930745601654 Batch_id=937 Accuracy=87.67: 100%|██████████| 938/938 [00:22<00:00, 42.37it/s]\n"
          ]
        },
        {
          "output_type": "stream",
          "name": "stdout",
          "text": [
            "\n",
            "Test set: Average loss: 0.0658, Accuracy: 9836/10000 (98.36%)\n",
            "\n",
            "EPOCH: 7\n"
          ]
        },
        {
          "output_type": "stream",
          "name": "stderr",
          "text": [
            "Loss=0.22501584887504578 Batch_id=937 Accuracy=87.80: 100%|██████████| 938/938 [00:22<00:00, 42.06it/s]\n"
          ]
        },
        {
          "output_type": "stream",
          "name": "stdout",
          "text": [
            "\n",
            "Test set: Average loss: 0.0756, Accuracy: 9832/10000 (98.32%)\n",
            "\n",
            "EPOCH: 8\n"
          ]
        },
        {
          "output_type": "stream",
          "name": "stderr",
          "text": [
            "Loss=0.31855982542037964 Batch_id=937 Accuracy=88.08: 100%|██████████| 938/938 [00:22<00:00, 42.32it/s]\n"
          ]
        },
        {
          "output_type": "stream",
          "name": "stdout",
          "text": [
            "\n",
            "Test set: Average loss: 0.0726, Accuracy: 9830/10000 (98.30%)\n",
            "\n",
            "EPOCH: 9\n"
          ]
        },
        {
          "output_type": "stream",
          "name": "stderr",
          "text": [
            "Loss=0.2190289944410324 Batch_id=937 Accuracy=88.36: 100%|██████████| 938/938 [00:22<00:00, 42.05it/s]\n"
          ]
        },
        {
          "output_type": "stream",
          "name": "stdout",
          "text": [
            "\n",
            "Test set: Average loss: 0.0725, Accuracy: 9822/10000 (98.22%)\n",
            "\n",
            "EPOCH: 10\n"
          ]
        },
        {
          "output_type": "stream",
          "name": "stderr",
          "text": [
            "Loss=0.6864736676216125 Batch_id=937 Accuracy=88.20: 100%|██████████| 938/938 [00:21<00:00, 42.74it/s]\n"
          ]
        },
        {
          "output_type": "stream",
          "name": "stdout",
          "text": [
            "\n",
            "Test set: Average loss: 0.0674, Accuracy: 9855/10000 (98.55%)\n",
            "\n",
            "EPOCH: 11\n"
          ]
        },
        {
          "output_type": "stream",
          "name": "stderr",
          "text": [
            "Loss=0.1788484901189804 Batch_id=937 Accuracy=88.21: 100%|██████████| 938/938 [00:22<00:00, 41.44it/s]\n"
          ]
        },
        {
          "output_type": "stream",
          "name": "stdout",
          "text": [
            "\n",
            "Test set: Average loss: 0.0592, Accuracy: 9861/10000 (98.61%)\n",
            "\n",
            "EPOCH: 12\n"
          ]
        },
        {
          "output_type": "stream",
          "name": "stderr",
          "text": [
            "Loss=0.33335477113723755 Batch_id=937 Accuracy=88.42: 100%|██████████| 938/938 [00:22<00:00, 42.51it/s]\n"
          ]
        },
        {
          "output_type": "stream",
          "name": "stdout",
          "text": [
            "\n",
            "Test set: Average loss: 0.0574, Accuracy: 9861/10000 (98.61%)\n",
            "\n",
            "EPOCH: 13\n"
          ]
        },
        {
          "output_type": "stream",
          "name": "stderr",
          "text": [
            "Loss=0.35099881887435913 Batch_id=937 Accuracy=88.31: 100%|██████████| 938/938 [00:22<00:00, 42.38it/s]\n"
          ]
        },
        {
          "output_type": "stream",
          "name": "stdout",
          "text": [
            "\n",
            "Test set: Average loss: 0.0545, Accuracy: 9869/10000 (98.69%)\n",
            "\n",
            "EPOCH: 14\n"
          ]
        },
        {
          "output_type": "stream",
          "name": "stderr",
          "text": [
            "Loss=0.5331996083259583 Batch_id=937 Accuracy=88.52: 100%|██████████| 938/938 [00:22<00:00, 42.50it/s]\n"
          ]
        },
        {
          "output_type": "stream",
          "name": "stdout",
          "text": [
            "\n",
            "Test set: Average loss: 0.0500, Accuracy: 9890/10000 (98.90%)\n",
            "\n",
            "EPOCH: 15\n"
          ]
        },
        {
          "output_type": "stream",
          "name": "stderr",
          "text": [
            "Loss=0.6858490109443665 Batch_id=937 Accuracy=88.52: 100%|██████████| 938/938 [00:22<00:00, 42.41it/s]\n"
          ]
        },
        {
          "output_type": "stream",
          "name": "stdout",
          "text": [
            "\n",
            "Test set: Average loss: 0.0548, Accuracy: 9883/10000 (98.83%)\n",
            "\n"
          ]
        }
      ],
      "source": [
        "model = Model_1().to(device)\n",
        "optimizer = optim.SGD(model.parameters(), lr=0.01, momentum=0.9)\n",
        "\n",
        "scheduler = torch.optim.lr_scheduler.StepLR(optimizer, step_size=1, gamma=0.1)\n",
        "\n",
        "for epoch in range(0, 15):\n",
        "    print(f\"EPOCH: {epoch+1}\")\n",
        "    utils.train(model, device, train_loader, optimizer, epoch)\n",
        "    utils.test(model, device, test_loader)"
      ]
    },
    {
      "cell_type": "markdown",
      "id": "36defc93",
      "metadata": {
        "id": "36defc93"
      },
      "source": [
        "## Model 2"
      ]
    },
    {
      "cell_type": "code",
      "execution_count": 11,
      "id": "2aa8a157",
      "metadata": {
        "colab": {
          "base_uri": "https://localhost:8080/"
        },
        "id": "2aa8a157",
        "outputId": "9b644772-4c74-4b4a-aa4f-6281377fc554"
      },
      "outputs": [
        {
          "output_type": "stream",
          "name": "stdout",
          "text": [
            "----------------------------------------------------------------\n",
            "        Layer (type)               Output Shape         Param #\n",
            "================================================================\n",
            "            Conv2d-1            [-1, 8, 26, 26]              72\n",
            "              ReLU-2            [-1, 8, 26, 26]               0\n",
            "       BatchNorm2d-3            [-1, 8, 26, 26]              16\n",
            "            Conv2d-4           [-1, 16, 24, 24]           1,152\n",
            "              ReLU-5           [-1, 16, 24, 24]               0\n",
            "       BatchNorm2d-6           [-1, 16, 24, 24]              32\n",
            "            Conv2d-7           [-1, 10, 24, 24]             160\n",
            "         MaxPool2d-8           [-1, 10, 12, 12]               0\n",
            "            Conv2d-9           [-1, 10, 10, 10]             900\n",
            "             ReLU-10           [-1, 10, 10, 10]               0\n",
            "      BatchNorm2d-11           [-1, 10, 10, 10]              20\n",
            "           Conv2d-12             [-1, 16, 8, 8]           1,440\n",
            "             ReLU-13             [-1, 16, 8, 8]               0\n",
            "      BatchNorm2d-14             [-1, 16, 8, 8]              32\n",
            "           Conv2d-15             [-1, 10, 6, 6]           1,440\n",
            "             ReLU-16             [-1, 10, 6, 6]               0\n",
            "      BatchNorm2d-17             [-1, 10, 6, 6]              20\n",
            "           Conv2d-18             [-1, 10, 4, 4]             900\n",
            "             ReLU-19             [-1, 10, 4, 4]               0\n",
            "      BatchNorm2d-20             [-1, 10, 4, 4]              20\n",
            "           Conv2d-21             [-1, 10, 2, 2]             900\n",
            "             ReLU-22             [-1, 10, 2, 2]               0\n",
            "      BatchNorm2d-23             [-1, 10, 2, 2]              20\n",
            "           Conv2d-24             [-1, 10, 1, 1]             400\n",
            "================================================================\n",
            "Total params: 7,524\n",
            "Trainable params: 7,524\n",
            "Non-trainable params: 0\n",
            "----------------------------------------------------------------\n",
            "Input size (MB): 0.00\n",
            "Forward/backward pass size (MB): 0.45\n",
            "Params size (MB): 0.03\n",
            "Estimated Total Size (MB): 0.48\n",
            "----------------------------------------------------------------\n"
          ]
        }
      ],
      "source": [
        "from torchsummary import summary\n",
        "use_cuda = torch.cuda.is_available()\n",
        "device = torch.device(\"cuda\" if use_cuda else \"cpu\")\n",
        "model = Model_2().to(device)\n",
        "summary(model, input_size=(1, 28, 28))"
      ]
    },
    {
      "cell_type": "code",
      "execution_count": 12,
      "id": "78c2c10c",
      "metadata": {
        "colab": {
          "base_uri": "https://localhost:8080/"
        },
        "id": "78c2c10c",
        "outputId": "af38f9a5-3dbb-4d1d-8ed5-dc96dfb54061"
      },
      "outputs": [
        {
          "output_type": "stream",
          "name": "stdout",
          "text": [
            "EPOCH: 1\n"
          ]
        },
        {
          "output_type": "stream",
          "name": "stderr",
          "text": [
            "Loss=0.02452841028571129 Batch_id=937 Accuracy=93.99: 100%|██████████| 938/938 [00:22<00:00, 42.13it/s]\n"
          ]
        },
        {
          "output_type": "stream",
          "name": "stdout",
          "text": [
            "\n",
            "Test set: Average loss: 0.0583, Accuracy: 9815/10000 (98.15%)\n",
            "\n",
            "EPOCH: 2\n"
          ]
        },
        {
          "output_type": "stream",
          "name": "stderr",
          "text": [
            "Loss=0.03304428234696388 Batch_id=937 Accuracy=97.94: 100%|██████████| 938/938 [00:22<00:00, 41.69it/s]\n"
          ]
        },
        {
          "output_type": "stream",
          "name": "stdout",
          "text": [
            "\n",
            "Test set: Average loss: 0.0437, Accuracy: 9871/10000 (98.71%)\n",
            "\n",
            "EPOCH: 3\n"
          ]
        },
        {
          "output_type": "stream",
          "name": "stderr",
          "text": [
            "Loss=0.06375932693481445 Batch_id=937 Accuracy=98.44: 100%|██████████| 938/938 [00:21<00:00, 42.95it/s]\n"
          ]
        },
        {
          "output_type": "stream",
          "name": "stdout",
          "text": [
            "\n",
            "Test set: Average loss: 0.0494, Accuracy: 9850/10000 (98.50%)\n",
            "\n",
            "EPOCH: 4\n"
          ]
        },
        {
          "output_type": "stream",
          "name": "stderr",
          "text": [
            "Loss=0.04440455138683319 Batch_id=937 Accuracy=98.67: 100%|██████████| 938/938 [00:21<00:00, 43.13it/s]\n"
          ]
        },
        {
          "output_type": "stream",
          "name": "stdout",
          "text": [
            "\n",
            "Test set: Average loss: 0.0370, Accuracy: 9888/10000 (98.88%)\n",
            "\n",
            "EPOCH: 5\n"
          ]
        },
        {
          "output_type": "stream",
          "name": "stderr",
          "text": [
            "Loss=0.005932847037911415 Batch_id=937 Accuracy=98.81: 100%|██████████| 938/938 [00:21<00:00, 42.73it/s]\n"
          ]
        },
        {
          "output_type": "stream",
          "name": "stdout",
          "text": [
            "\n",
            "Test set: Average loss: 0.0352, Accuracy: 9895/10000 (98.95%)\n",
            "\n",
            "EPOCH: 6\n"
          ]
        },
        {
          "output_type": "stream",
          "name": "stderr",
          "text": [
            "Loss=0.032034892588853836 Batch_id=937 Accuracy=98.88: 100%|██████████| 938/938 [00:21<00:00, 42.71it/s]\n"
          ]
        },
        {
          "output_type": "stream",
          "name": "stdout",
          "text": [
            "\n",
            "Test set: Average loss: 0.0309, Accuracy: 9904/10000 (99.04%)\n",
            "\n",
            "EPOCH: 7\n"
          ]
        },
        {
          "output_type": "stream",
          "name": "stderr",
          "text": [
            "Loss=0.0023931690957397223 Batch_id=937 Accuracy=98.97: 100%|██████████| 938/938 [00:22<00:00, 41.39it/s]\n"
          ]
        },
        {
          "output_type": "stream",
          "name": "stdout",
          "text": [
            "\n",
            "Test set: Average loss: 0.0384, Accuracy: 9892/10000 (98.92%)\n",
            "\n",
            "EPOCH: 8\n"
          ]
        },
        {
          "output_type": "stream",
          "name": "stderr",
          "text": [
            "Loss=0.09027783572673798 Batch_id=937 Accuracy=99.10: 100%|██████████| 938/938 [00:22<00:00, 42.36it/s]\n"
          ]
        },
        {
          "output_type": "stream",
          "name": "stdout",
          "text": [
            "\n",
            "Test set: Average loss: 0.0343, Accuracy: 9892/10000 (98.92%)\n",
            "\n",
            "EPOCH: 9\n"
          ]
        },
        {
          "output_type": "stream",
          "name": "stderr",
          "text": [
            "Loss=0.012524363584816456 Batch_id=937 Accuracy=99.16: 100%|██████████| 938/938 [00:21<00:00, 42.91it/s]\n"
          ]
        },
        {
          "output_type": "stream",
          "name": "stdout",
          "text": [
            "\n",
            "Test set: Average loss: 0.0316, Accuracy: 9907/10000 (99.07%)\n",
            "\n",
            "EPOCH: 10\n"
          ]
        },
        {
          "output_type": "stream",
          "name": "stderr",
          "text": [
            "Loss=0.030872000381350517 Batch_id=937 Accuracy=99.21: 100%|██████████| 938/938 [00:21<00:00, 42.89it/s]\n"
          ]
        },
        {
          "output_type": "stream",
          "name": "stdout",
          "text": [
            "\n",
            "Test set: Average loss: 0.0316, Accuracy: 9897/10000 (98.97%)\n",
            "\n",
            "EPOCH: 11\n"
          ]
        },
        {
          "output_type": "stream",
          "name": "stderr",
          "text": [
            "Loss=0.24424317479133606 Batch_id=937 Accuracy=99.28: 100%|██████████| 938/938 [00:21<00:00, 42.65it/s]\n"
          ]
        },
        {
          "output_type": "stream",
          "name": "stdout",
          "text": [
            "\n",
            "Test set: Average loss: 0.0299, Accuracy: 9906/10000 (99.06%)\n",
            "\n",
            "EPOCH: 12\n"
          ]
        },
        {
          "output_type": "stream",
          "name": "stderr",
          "text": [
            "Loss=0.04441473260521889 Batch_id=937 Accuracy=99.33: 100%|██████████| 938/938 [00:21<00:00, 42.76it/s]\n"
          ]
        },
        {
          "output_type": "stream",
          "name": "stdout",
          "text": [
            "\n",
            "Test set: Average loss: 0.0277, Accuracy: 9904/10000 (99.04%)\n",
            "\n",
            "EPOCH: 13\n"
          ]
        },
        {
          "output_type": "stream",
          "name": "stderr",
          "text": [
            "Loss=0.007692759390920401 Batch_id=937 Accuracy=99.33: 100%|██████████| 938/938 [00:21<00:00, 43.52it/s]\n"
          ]
        },
        {
          "output_type": "stream",
          "name": "stdout",
          "text": [
            "\n",
            "Test set: Average loss: 0.0302, Accuracy: 9912/10000 (99.12%)\n",
            "\n",
            "EPOCH: 14\n"
          ]
        },
        {
          "output_type": "stream",
          "name": "stderr",
          "text": [
            "Loss=0.004759191069751978 Batch_id=937 Accuracy=99.38: 100%|██████████| 938/938 [00:21<00:00, 43.10it/s]\n"
          ]
        },
        {
          "output_type": "stream",
          "name": "stdout",
          "text": [
            "\n",
            "Test set: Average loss: 0.0285, Accuracy: 9909/10000 (99.09%)\n",
            "\n",
            "EPOCH: 15\n"
          ]
        },
        {
          "output_type": "stream",
          "name": "stderr",
          "text": [
            "Loss=0.00037995088496245444 Batch_id=937 Accuracy=99.44: 100%|██████████| 938/938 [00:21<00:00, 43.64it/s]\n"
          ]
        },
        {
          "output_type": "stream",
          "name": "stdout",
          "text": [
            "\n",
            "Test set: Average loss: 0.0335, Accuracy: 9904/10000 (99.04%)\n",
            "\n"
          ]
        }
      ],
      "source": [
        "model = Model_2().to(device)\n",
        "optimizer = optim.SGD(model.parameters(), lr=0.01, momentum=0.9)\n",
        "\n",
        "scheduler = torch.optim.lr_scheduler.StepLR(optimizer, step_size=6, gamma=0.1)\n",
        "\n",
        "for epoch in range(0, 15):\n",
        "    print(f\"EPOCH: {epoch+1}\")\n",
        "    utils.train(model, device, train_loader, optimizer, epoch)\n",
        "    utils.test(model, device, test_loader)"
      ]
    },
    {
      "cell_type": "markdown",
      "id": "ce70e899",
      "metadata": {
        "id": "ce70e899"
      },
      "source": [
        "## Model 3"
      ]
    },
    {
      "cell_type": "code",
      "execution_count": 16,
      "id": "1fdb2ea6",
      "metadata": {
        "colab": {
          "base_uri": "https://localhost:8080/"
        },
        "id": "1fdb2ea6",
        "outputId": "77829885-8198-46d6-adfc-5d7d199c730e"
      },
      "outputs": [
        {
          "output_type": "stream",
          "name": "stdout",
          "text": [
            "----------------------------------------------------------------\n",
            "        Layer (type)               Output Shape         Param #\n",
            "================================================================\n",
            "            Conv2d-1           [-1, 10, 26, 26]              90\n",
            "       BatchNorm2d-2           [-1, 10, 26, 26]              20\n",
            "              ReLU-3           [-1, 10, 26, 26]               0\n",
            "            Conv2d-4           [-1, 12, 24, 24]           1,080\n",
            "       BatchNorm2d-5           [-1, 12, 24, 24]              24\n",
            "              ReLU-6           [-1, 12, 24, 24]               0\n",
            "         MaxPool2d-7           [-1, 12, 12, 12]               0\n",
            "            Conv2d-8           [-1, 10, 12, 12]             120\n",
            "            Conv2d-9           [-1, 12, 10, 10]           1,080\n",
            "      BatchNorm2d-10           [-1, 12, 10, 10]              24\n",
            "             ReLU-11           [-1, 12, 10, 10]               0\n",
            "           Conv2d-12             [-1, 12, 8, 8]           1,296\n",
            "      BatchNorm2d-13             [-1, 12, 8, 8]              24\n",
            "             ReLU-14             [-1, 12, 8, 8]               0\n",
            "           Conv2d-15             [-1, 12, 6, 6]           1,296\n",
            "      BatchNorm2d-16             [-1, 12, 6, 6]              24\n",
            "             ReLU-17             [-1, 12, 6, 6]               0\n",
            "           Conv2d-18             [-1, 12, 4, 4]           1,296\n",
            "      BatchNorm2d-19             [-1, 12, 4, 4]              24\n",
            "             ReLU-20             [-1, 12, 4, 4]               0\n",
            "           Conv2d-21             [-1, 12, 2, 2]           1,296\n",
            "      BatchNorm2d-22             [-1, 12, 2, 2]              24\n",
            "             ReLU-23             [-1, 12, 2, 2]               0\n",
            "           Conv2d-24             [-1, 10, 2, 2]             120\n",
            "AdaptiveAvgPool2d-25             [-1, 10, 1, 1]               0\n",
            "================================================================\n",
            "Total params: 7,838\n",
            "Trainable params: 7,838\n",
            "Non-trainable params: 0\n",
            "----------------------------------------------------------------\n",
            "Input size (MB): 0.00\n",
            "Forward/backward pass size (MB): 0.40\n",
            "Params size (MB): 0.03\n",
            "Estimated Total Size (MB): 0.43\n",
            "----------------------------------------------------------------\n"
          ]
        }
      ],
      "source": [
        "from torchsummary import summary\n",
        "use_cuda = torch.cuda.is_available()\n",
        "device = torch.device(\"cuda\" if use_cuda else \"cpu\")\n",
        "class Model_4(nn.Module):\n",
        "    def __init__(self):\n",
        "        super(Model_4, self).__init__()\n",
        "        # Input Block\n",
        "        self.convblock1 = nn.Sequential(\n",
        "            nn.Conv2d(in_channels=1, out_channels=10, kernel_size=(3, 3), padding=0, bias=False),\n",
        "            nn.BatchNorm2d(10),\n",
        "            nn.ReLU()\n",
        "        ) # output_size = 26, RF = 3\n",
        "\n",
        "        # CONVOLUTION BLOCK 1\n",
        "        self.convblock2 = nn.Sequential(\n",
        "            nn.Conv2d(in_channels=10, out_channels=12, kernel_size=(3, 3), padding=0, bias=False),\n",
        "            nn.BatchNorm2d(12),\n",
        "            nn.ReLU()\n",
        "        ) # output_size = 24, RF = 5\n",
        "\n",
        "        # TRANSITION BLOCK 1\n",
        "        self.pool1 = nn.MaxPool2d(2, 2) # output_size = 12, RF = 6\n",
        "        self.convblock3 = nn.Sequential(\n",
        "            nn.Conv2d(in_channels=12, out_channels=10, kernel_size=(1, 1), padding=0, bias=False)\n",
        "        ) # output_size = 12, RF = 6\n",
        "\n",
        "        # CONVOLUTION BLOCK 2\n",
        "        self.convblock4 = nn.Sequential(\n",
        "            nn.Conv2d(in_channels=10, out_channels=12, kernel_size=(3, 3), padding=0, bias=False),\n",
        "            nn.BatchNorm2d(12),\n",
        "            nn.ReLU()\n",
        "        ) # output_size = 10, RF = 10\n",
        "        self.convblock5 = nn.Sequential(\n",
        "            nn.Conv2d(in_channels=12, out_channels=12, kernel_size=(3, 3), padding=0, bias=False),\n",
        "            nn.BatchNorm2d(12),\n",
        "            nn.ReLU()\n",
        "        ) # output_size = 8, RF = 14\n",
        "        self.convblock6 = nn.Sequential(\n",
        "            nn.Conv2d(in_channels=12, out_channels=12, kernel_size=(3, 3), padding=0, bias=False),\n",
        "            nn.BatchNorm2d(12),\n",
        "            nn.ReLU()\n",
        "        ) # output_size = 6, RF = 18\n",
        "        self.convblock7 = nn.Sequential(\n",
        "            nn.Conv2d(in_channels=12, out_channels=12, kernel_size=(3, 3), padding=0, bias=False),\n",
        "            nn.BatchNorm2d(12),\n",
        "            nn.ReLU()\n",
        "        ) # output_size = 4, RF = 22\n",
        "        self.convblock8 = nn.Sequential(\n",
        "            nn.Conv2d(in_channels=12, out_channels=12, kernel_size=(3, 3), padding=0, bias=False),\n",
        "            nn.BatchNorm2d(12),\n",
        "            nn.ReLU()\n",
        "        ) # output_size = 2, RF = 26\n",
        "        # OUTPUT BLOCK\n",
        "        self.convblock9 = nn.Sequential(\n",
        "            nn.Conv2d(in_channels=12, out_channels=10, kernel_size=(1, 1), padding=0, bias=False)\n",
        "        ) # output_size = 2, RF = 26\n",
        "\n",
        "        self.gap = nn.Sequential(\n",
        "            nn.AdaptiveAvgPool2d((1, 1))\n",
        "        ) # output_size = 1, RF = 26\n",
        "\n",
        "    def forward(self, x):\n",
        "        x = self.convblock1(x)\n",
        "        x = self.convblock2(x)\n",
        "        x = self.pool1(x)\n",
        "        x = self.convblock3(x)\n",
        "        x = self.convblock4(x)\n",
        "        x = self.convblock5(x)\n",
        "        x = self.convblock6(x)\n",
        "        x = self.convblock7(x)\n",
        "        x = self.convblock8(x)\n",
        "        x = self.convblock9(x)\n",
        "        x = self.gap(x)\n",
        "        x = x.view(-1, 10)\n",
        "        return F.log_softmax(x, dim=-1)\n",
        "model = Model_4().to(device)\n",
        "summary(model, input_size=(1, 28, 28))"
      ]
    },
    {
      "cell_type": "code",
      "execution_count": 17,
      "id": "a7a3d75f",
      "metadata": {
        "colab": {
          "base_uri": "https://localhost:8080/"
        },
        "id": "a7a3d75f",
        "outputId": "3f59caae-7f1f-45cd-99fb-685874544b1d"
      },
      "outputs": [
        {
          "output_type": "stream",
          "name": "stdout",
          "text": [
            "EPOCH: 1\n"
          ]
        },
        {
          "output_type": "stream",
          "name": "stderr",
          "text": [
            "Loss=0.20281952619552612 Batch_id=937 Accuracy=93.58: 100%|██████████| 938/938 [00:22<00:00, 42.34it/s]\n"
          ]
        },
        {
          "output_type": "stream",
          "name": "stdout",
          "text": [
            "\n",
            "Test set: Average loss: 0.1067, Accuracy: 9677/10000 (96.77%)\n",
            "\n",
            "EPOCH: 2\n"
          ]
        },
        {
          "output_type": "stream",
          "name": "stderr",
          "text": [
            "Loss=0.032239049673080444 Batch_id=937 Accuracy=98.08: 100%|██████████| 938/938 [00:22<00:00, 42.32it/s]\n"
          ]
        },
        {
          "output_type": "stream",
          "name": "stdout",
          "text": [
            "\n",
            "Test set: Average loss: 0.0417, Accuracy: 9877/10000 (98.77%)\n",
            "\n",
            "EPOCH: 3\n"
          ]
        },
        {
          "output_type": "stream",
          "name": "stderr",
          "text": [
            "Loss=0.0017358504701405764 Batch_id=937 Accuracy=98.54: 100%|██████████| 938/938 [00:21<00:00, 43.37it/s]\n"
          ]
        },
        {
          "output_type": "stream",
          "name": "stdout",
          "text": [
            "\n",
            "Test set: Average loss: 0.0341, Accuracy: 9898/10000 (98.98%)\n",
            "\n",
            "EPOCH: 4\n"
          ]
        },
        {
          "output_type": "stream",
          "name": "stderr",
          "text": [
            "Loss=0.0011645141057670116 Batch_id=937 Accuracy=98.79: 100%|██████████| 938/938 [00:21<00:00, 43.37it/s]\n"
          ]
        },
        {
          "output_type": "stream",
          "name": "stdout",
          "text": [
            "\n",
            "Test set: Average loss: 0.0309, Accuracy: 9899/10000 (98.99%)\n",
            "\n",
            "EPOCH: 5\n"
          ]
        },
        {
          "output_type": "stream",
          "name": "stderr",
          "text": [
            "Loss=0.01831829361617565 Batch_id=937 Accuracy=98.92: 100%|██████████| 938/938 [00:21<00:00, 43.97it/s]\n"
          ]
        },
        {
          "output_type": "stream",
          "name": "stdout",
          "text": [
            "\n",
            "Test set: Average loss: 0.0330, Accuracy: 9898/10000 (98.98%)\n",
            "\n",
            "EPOCH: 6\n"
          ]
        },
        {
          "output_type": "stream",
          "name": "stderr",
          "text": [
            "Loss=0.18646441400051117 Batch_id=937 Accuracy=99.01: 100%|██████████| 938/938 [00:21<00:00, 43.52it/s]\n"
          ]
        },
        {
          "output_type": "stream",
          "name": "stdout",
          "text": [
            "\n",
            "Test set: Average loss: 0.0297, Accuracy: 9903/10000 (99.03%)\n",
            "\n",
            "EPOCH: 7\n"
          ]
        },
        {
          "output_type": "stream",
          "name": "stderr",
          "text": [
            "Loss=0.004492701962590218 Batch_id=937 Accuracy=99.06: 100%|██████████| 938/938 [00:21<00:00, 43.44it/s]\n"
          ]
        },
        {
          "output_type": "stream",
          "name": "stdout",
          "text": [
            "\n",
            "Test set: Average loss: 0.0226, Accuracy: 9931/10000 (99.31%)\n",
            "\n",
            "EPOCH: 8\n"
          ]
        },
        {
          "output_type": "stream",
          "name": "stderr",
          "text": [
            "Loss=0.07998417317867279 Batch_id=937 Accuracy=99.12: 100%|██████████| 938/938 [00:21<00:00, 43.83it/s]\n"
          ]
        },
        {
          "output_type": "stream",
          "name": "stdout",
          "text": [
            "\n",
            "Test set: Average loss: 0.0245, Accuracy: 9920/10000 (99.20%)\n",
            "\n",
            "EPOCH: 9\n"
          ]
        },
        {
          "output_type": "stream",
          "name": "stderr",
          "text": [
            "Loss=0.054923560470342636 Batch_id=937 Accuracy=99.20: 100%|██████████| 938/938 [00:21<00:00, 43.77it/s]\n"
          ]
        },
        {
          "output_type": "stream",
          "name": "stdout",
          "text": [
            "\n",
            "Test set: Average loss: 0.0288, Accuracy: 9902/10000 (99.02%)\n",
            "\n",
            "EPOCH: 10\n"
          ]
        },
        {
          "output_type": "stream",
          "name": "stderr",
          "text": [
            "Loss=0.1708608716726303 Batch_id=937 Accuracy=99.27: 100%|██████████| 938/938 [00:22<00:00, 42.14it/s]\n"
          ]
        },
        {
          "output_type": "stream",
          "name": "stdout",
          "text": [
            "\n",
            "Test set: Average loss: 0.0253, Accuracy: 9914/10000 (99.14%)\n",
            "\n",
            "EPOCH: 11\n"
          ]
        },
        {
          "output_type": "stream",
          "name": "stderr",
          "text": [
            "Loss=0.011092955246567726 Batch_id=937 Accuracy=99.32: 100%|██████████| 938/938 [00:21<00:00, 44.14it/s]\n"
          ]
        },
        {
          "output_type": "stream",
          "name": "stdout",
          "text": [
            "\n",
            "Test set: Average loss: 0.0292, Accuracy: 9900/10000 (99.00%)\n",
            "\n",
            "EPOCH: 12\n"
          ]
        },
        {
          "output_type": "stream",
          "name": "stderr",
          "text": [
            "Loss=0.026693381369113922 Batch_id=937 Accuracy=99.34: 100%|██████████| 938/938 [00:21<00:00, 43.71it/s]\n"
          ]
        },
        {
          "output_type": "stream",
          "name": "stdout",
          "text": [
            "\n",
            "Test set: Average loss: 0.0229, Accuracy: 9918/10000 (99.18%)\n",
            "\n",
            "EPOCH: 13\n"
          ]
        },
        {
          "output_type": "stream",
          "name": "stderr",
          "text": [
            "Loss=0.01032047439366579 Batch_id=937 Accuracy=99.35: 100%|██████████| 938/938 [00:21<00:00, 43.66it/s]\n"
          ]
        },
        {
          "output_type": "stream",
          "name": "stdout",
          "text": [
            "\n",
            "Test set: Average loss: 0.0258, Accuracy: 9921/10000 (99.21%)\n",
            "\n",
            "EPOCH: 14\n"
          ]
        },
        {
          "output_type": "stream",
          "name": "stderr",
          "text": [
            "Loss=0.010820656083524227 Batch_id=937 Accuracy=99.39: 100%|██████████| 938/938 [00:22<00:00, 41.19it/s]\n"
          ]
        },
        {
          "output_type": "stream",
          "name": "stdout",
          "text": [
            "\n",
            "Test set: Average loss: 0.0236, Accuracy: 9921/10000 (99.21%)\n",
            "\n",
            "EPOCH: 15\n"
          ]
        },
        {
          "output_type": "stream",
          "name": "stderr",
          "text": [
            "Loss=0.08975138515233994 Batch_id=937 Accuracy=99.44: 100%|██████████| 938/938 [00:22<00:00, 41.47it/s]\n"
          ]
        },
        {
          "output_type": "stream",
          "name": "stdout",
          "text": [
            "\n",
            "Test set: Average loss: 0.0246, Accuracy: 9923/10000 (99.23%)\n",
            "\n"
          ]
        }
      ],
      "source": [
        "model = Model_4().to(device)\n",
        "optimizer = optim.SGD(model.parameters(), lr=0.01, momentum=0.9)\n",
        "\n",
        "scheduler = torch.optim.lr_scheduler.ReduceLROnPlateau(optimizer, mode='min',\n",
        "    factor=0.1, patience=10, threshold=0.0001, threshold_mode='abs')\n",
        "\n",
        "for epoch in range(0, 15):\n",
        "    print(f\"EPOCH: {epoch+1}\")\n",
        "    utils.train(model, device, train_loader, optimizer, epoch)\n",
        "    utils.test(model, device, test_loader)"
      ]
    },
    {
      "cell_type": "code",
      "execution_count": 14,
      "id": "96baecc4",
      "metadata": {
        "id": "96baecc4"
      },
      "outputs": [],
      "source": []
    },
    {
      "cell_type": "code",
      "execution_count": 14,
      "id": "319e497e",
      "metadata": {
        "id": "319e497e"
      },
      "outputs": [],
      "source": []
    },
    {
      "cell_type": "code",
      "execution_count": 14,
      "id": "72f11b85",
      "metadata": {
        "id": "72f11b85"
      },
      "outputs": [],
      "source": []
    }
  ],
  "metadata": {
    "kernelspec": {
      "display_name": "Python 3",
      "name": "python3"
    },
    "language_info": {
      "codemirror_mode": {
        "name": "ipython",
        "version": 3
      },
      "file_extension": ".py",
      "mimetype": "text/x-python",
      "name": "python",
      "nbconvert_exporter": "python",
      "pygments_lexer": "ipython3",
      "version": "3.9.12"
    },
    "colab": {
      "provenance": [],
      "include_colab_link": true
    }
  },
  "nbformat": 4,
  "nbformat_minor": 5
}